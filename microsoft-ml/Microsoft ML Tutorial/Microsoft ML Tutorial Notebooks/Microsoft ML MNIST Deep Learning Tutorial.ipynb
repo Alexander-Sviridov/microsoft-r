{
 "cells": [
  {
   "cell_type": "markdown",
   "metadata": {},
   "source": [
    "# Microsoft ML MNIST Deep Learning Tutorial\n",
    "\n",
    "1. [Overview](#Overview)\n",
    "2. [Fitting Models That Identify Handprint Digits](#Digits)\n",
    "3. [What's Next?](#Next)"
   ]
  },
  {
   "cell_type": "markdown",
   "metadata": {},
   "source": [
    "## <a id=\"Overview\">1. OVERVIEW</a>\n",
    "\n",
    "Microsoft Machine Learning, or Microsoft ML for short, is an R package within Microsoft R Services that includes powerful machine learning algorithms and associated tools. The tutorial is an introduction to Microsoft ML for data scientists who want to take advantage of its unique capabilities.  It is intended primarily for those who are comfortable with using Microsoft R Services for data science, and want to see an end-to-end example that uses Microsoft ML to carry out common data science tasks."
   ]
  },
  {
   "cell_type": "markdown",
   "metadata": {},
   "source": [
    "## <a id=\"Digits\">2. FITTING MODELS THAT IDENTIFY HANDPRINT DIGITS</a>\n",
    "\n",
    "The tutorial steps through the fitting of a model for identifying handprinted digits from 0 through 9 in carefully prepared gray-scale images. Since there are ten digits to identify, this is called a multi-class classification problem.\n",
    "\n",
    "The tutorial begins from data imported from a database of MNIST images. In this tutorial, the features are the pixel values of the images. Then, a model is fit by multiple learning algorithms, and the performance of these fit models is compared to select the best one. The initial and final steps in this process will be familiar to Microsoft R Services users, while the model fitting and performance evaluation steps will involve new Microsoft ML commands.\n",
    "\n",
    "This tutorial is an example of deep learning because it shows the use of convolutional neural networks to automatically learn features from images, before using these features to classify the images."
   ]
  },
  {
   "cell_type": "markdown",
   "metadata": {
    "collapsed": true
   },
   "source": [
    "### <a id=\"Packages\">2.1. LOADING THE PACKAGES</a>\n",
    "\n",
    "The tutorial is broken into steps, the first being loading the Microsoft ML package. When you execute the first step, there should be no output."
   ]
  },
  {
   "cell_type": "code",
   "execution_count": 1,
   "metadata": {
    "collapsed": true
   },
   "outputs": [],
   "source": [
    "#-----------------------------------------------------------------------\n",
    "# 1. Load packages.\n",
    "#-----------------------------------------------------------------------\n",
    "if (!suppressPackageStartupMessages(require(\"MicrosoftML\",\n",
    "                                            quietly = TRUE,\n",
    "                                            warn.conflicts = FALSE))) {\n",
    "    stop(\"The MicrosoftML package does not seem to be installed, so this\\n\",\n",
    "         \"script cannot be run. If Microsoft R Server with MML is installed,\\n\",\n",
    "         \"you may need to switch the R engine option. In R Tools for Visual\\n\",\n",
    "         \"Studio, this option is under:\\n\",\n",
    "         \"\\tR Tools -> Options -> R Engine.\\n\",\n",
    "         \"If Microsoft R Server with MML is not installed, you can download it\\n\",\n",
    "         \"from https://microsoft.sharepoint.com/teams/TLC/SitePages/MicrosoftML.aspx\\n\")\n",
    "}"
   ]
  },
  {
   "cell_type": "markdown",
   "metadata": {},
   "source": [
    "### <a id=\"Import\">2.2. IMPORT DATA</a>\n",
    "\n",
    "The second step consists of importing the data we will use to fit a model. There is only one table of data: the MNIST table. This section imports that table into an Xdf. These Xdfs are an efficient way of working with large amounts of data. They are files in which the rows are grouped in blocks whose size is specified by the parameter rowsPerBlock (omitted here)."
   ]
  },
  {
   "cell_type": "code",
   "execution_count": 2,
   "metadata": {
    "collapsed": false
   },
   "outputs": [],
   "source": [
    "#-----------------------------------------------------------------------\n",
    "# 2. Import data.\n",
    "#-----------------------------------------------------------------------\n",
    "\n",
    "# The directory containing data files.\n",
    "dataDir <- file.path(\"Data\")\n",
    "\n",
    "# Verify that the data file exists.\n",
    "if (!file.exists(file.path(dataDir, \"MNIST.xdf\"))) {\n",
    "    stop(\"The data files needed for running this script cannot be found.\\n\",\n",
    "         \"You may need to set R's working directory to the location of the Data\\n\",\n",
    "         \"directory.\\n\")\n",
    "}"
   ]
  },
  {
   "cell_type": "markdown",
   "metadata": {},
   "source": [
    "The MNIST table has one row per image, and 786 columns: Label, V2 through V785, and splitVar. The Label identifies the digit present in the image, one of 0, 1, 2, 3, 4, 5, 6, 7, 8, or 9. The V2 through V785 are the pixels of the 28 by 28 pixel images. And the splitVar identifies which images have historically been used in training and which have been used in testing."
   ]
  },
  {
   "cell_type": "code",
   "execution_count": 3,
   "metadata": {
    "collapsed": false
   },
   "outputs": [],
   "source": [
    "# The imported MNIST images.\n",
    "dataset <- RxXdfData(file.path(dataDir, \"MNIST.xdf\"))"
   ]
  },
  {
   "cell_type": "markdown",
   "metadata": {},
   "source": [
    "We can see from the output that the activity table has 70,000 rows. Counts showing the number of images for each digit can be obtained as follows:"
   ]
  },
  {
   "cell_type": "code",
   "execution_count": 4,
   "metadata": {
    "collapsed": false,
    "scrolled": true
   },
   "outputs": [
    {
     "name": "stdout",
     "output_type": "stream",
     "text": [
      "Rows Read: 10000, Total Rows Processed: 10000, Total Chunk Time: 0.005 seconds\n",
      "Rows Read: 10000, Total Rows Processed: 20000, Total Chunk Time: 0.001 seconds\n",
      "Rows Read: 10000, Total Rows Processed: 30000, Total Chunk Time: Less than .001 seconds\n",
      "Rows Read: 10000, Total Rows Processed: 40000, Total Chunk Time: Less than .001 seconds\n",
      "Rows Read: 10000, Total Rows Processed: 50000, Total Chunk Time: Less than .001 seconds\n",
      "Rows Read: 10000, Total Rows Processed: 60000, Total Chunk Time: Less than .001 seconds\n",
      "Rows Read: 10000, Total Rows Processed: 70000, Total Chunk Time: 0.001 seconds \n",
      "Computation time: 0.022 seconds.\n"
     ]
    },
    {
     "data": {
      "text/html": [
       "<table>\n",
       "<tbody>\n",
       "\t<tr><th scope=row>Label</th><td>0   </td><td>1   </td><td>2   </td><td>3   </td><td>4   </td><td>5   </td><td>6   </td><td>7   </td><td>8   </td><td>9   </td></tr>\n",
       "\t<tr><th scope=row>Counts</th><td>6903</td><td>7877</td><td>6990</td><td>7141</td><td>6824</td><td>6313</td><td>6876</td><td>7293</td><td>6825</td><td>6958</td></tr>\n",
       "</tbody>\n",
       "</table>\n"
      ],
      "text/latex": [
       "\\begin{tabular}{r|llllllllll}\n",
       "\tLabel & 0    & 1    & 2    & 3    & 4    & 5    & 6    & 7    & 8    & 9   \\\\\n",
       "\tCounts & 6903 & 7877 & 6990 & 7141 & 6824 & 6313 & 6876 & 7293 & 6825 & 6958\\\\\n",
       "\\end{tabular}\n"
      ],
      "text/markdown": [
       "1. '0'\n",
       "2. '6903'\n",
       "3. '1'\n",
       "4. '7877'\n",
       "5. '2'\n",
       "6. '6990'\n",
       "7. '3'\n",
       "8. '7141'\n",
       "9. '4'\n",
       "10. '6824'\n",
       "11. '5'\n",
       "12. '6313'\n",
       "13. '6'\n",
       "14. '6876'\n",
       "15. '7'\n",
       "16. '7293'\n",
       "17. '8'\n",
       "18. '6825'\n",
       "19. '9'\n",
       "20. '6958'\n",
       "\n",
       "\n"
      ],
      "text/plain": [
       "       [,1] [,2] [,3] [,4] [,5] [,6] [,7] [,8] [,9] [,10]\n",
       "Label  0    1    2    3    4    5    6    7    8    9    \n",
       "Counts 6903 7877 6990 7141 6824 6313 6876 7293 6825 6958 "
      ]
     },
     "metadata": {},
     "output_type": "display_data"
    }
   ],
   "source": [
    "t(as.data.frame(rxSummary(~ Label, dataset)$categorical))"
   ]
  },
  {
   "cell_type": "markdown",
   "metadata": {},
   "source": [
    "### <a id=\"Split\">2.3. SPLIT THE DATASET INTO TRAIN AND TEST</a>\n",
    "\n",
    "To create train and test sets, data are usually randomly split by tweet into two datasets. For this tutorial, we will use the split historically used for these data by Yann LeCun, as is given by the column splitVar."
   ]
  },
  {
   "cell_type": "code",
   "execution_count": 5,
   "metadata": {
    "collapsed": false
   },
   "outputs": [
    {
     "name": "stdout",
     "output_type": "stream",
     "text": [
      "Rows Read: 10000, Total Rows Processed: 10000, Total Chunk Time: 0.218 seconds \n",
      "Rows Read: 10000, Total Rows Processed: 10000, Total Chunk Time: 1.292 secondsRows Read: 10000, Total Rows Processed: 10000, Total Chunk Time: 0.223 seconds \n",
      "Rows Read: 10000, Total Rows Processed: 20000, Total Chunk Time: 0.983 secondsRows Read: 10000, Total Rows Processed: 10000, Total Chunk Time: 0.246 seconds \n",
      "Rows Read: 10000, Total Rows Processed: 30000, Total Chunk Time: 0.997 secondsRows Read: 10000, Total Rows Processed: 10000, Total Chunk Time: 0.245 seconds \n",
      "Rows Read: 10000, Total Rows Processed: 40000, Total Chunk Time: 1.143 secondsRows Read: 10000, Total Rows Processed: 10000, Total Chunk Time: 0.255 seconds \n",
      "Rows Read: 10000, Total Rows Processed: 50000, Total Chunk Time: 1.142 secondsRows Read: 10000, Total Rows Processed: 10000, Total Chunk Time: 0.275 seconds \n",
      "Rows Read: 10000, Total Rows Processed: 60000, Total Chunk Time: 1.284 secondsRows Read: 10000, Total Rows Processed: 10000, Total Chunk Time: 0.217 seconds \n",
      "Rows Read: 10000, Total Rows Processed: 70000, Total Chunk Time: 1.021 seconds \n"
     ]
    }
   ],
   "source": [
    "#-----------------------------------------------------------------------\n",
    "# 3. Split the dataset into train and test data.\n",
    "#-----------------------------------------------------------------------\n",
    "# Split the data between train and test sets reproducing LeCun's split.\n",
    "dataSplit <-\n",
    "    rxSplit(dataset,\n",
    "            splitByFactor = \"splitVar\",\n",
    "            outFilesBase = tempfile())\n",
    "\n",
    "# Name the train and test datasets.\n",
    "dataTrain <- dataSplit[[1]]\n",
    "dataTest <- dataSplit[[2]]"
   ]
  },
  {
   "cell_type": "markdown",
   "metadata": {},
   "source": [
    "We can see from the above output that there are 60,000 images in the training set, and 10,000 images in the test set. Below, we see the count of each digit in the training and test data."
   ]
  },
  {
   "cell_type": "code",
   "execution_count": 6,
   "metadata": {
    "collapsed": false
   },
   "outputs": [
    {
     "name": "stdout",
     "output_type": "stream",
     "text": [
      "Rows Read: 10000, Total Rows Processed: 10000, Total Chunk Time: 0.005 seconds\n",
      "Rows Read: 10000, Total Rows Processed: 20000, Total Chunk Time: Less than .001 seconds\n",
      "Rows Read: 10000, Total Rows Processed: 30000, Total Chunk Time: Less than .001 seconds\n",
      "Rows Read: 10000, Total Rows Processed: 40000, Total Chunk Time: Less than .001 seconds\n",
      "Rows Read: 10000, Total Rows Processed: 50000, Total Chunk Time: Less than .001 seconds\n",
      "Rows Read: 10000, Total Rows Processed: 60000, Total Chunk Time: 0.001 seconds \n",
      "Computation time: 0.015 seconds.\n"
     ]
    },
    {
     "data": {
      "text/html": [
       "<table>\n",
       "<tbody>\n",
       "\t<tr><th scope=row>Label</th><td>0   </td><td>1   </td><td>2   </td><td>3   </td><td>4   </td><td>5   </td><td>6   </td><td>7   </td><td>8   </td><td>9   </td></tr>\n",
       "\t<tr><th scope=row>Counts</th><td>5923</td><td>6742</td><td>5958</td><td>6131</td><td>5842</td><td>5421</td><td>5918</td><td>6265</td><td>5851</td><td>5949</td></tr>\n",
       "</tbody>\n",
       "</table>\n"
      ],
      "text/latex": [
       "\\begin{tabular}{r|llllllllll}\n",
       "\tLabel & 0    & 1    & 2    & 3    & 4    & 5    & 6    & 7    & 8    & 9   \\\\\n",
       "\tCounts & 5923 & 6742 & 5958 & 6131 & 5842 & 5421 & 5918 & 6265 & 5851 & 5949\\\\\n",
       "\\end{tabular}\n"
      ],
      "text/markdown": [
       "1. '0'\n",
       "2. '5923'\n",
       "3. '1'\n",
       "4. '6742'\n",
       "5. '2'\n",
       "6. '5958'\n",
       "7. '3'\n",
       "8. '6131'\n",
       "9. '4'\n",
       "10. '5842'\n",
       "11. '5'\n",
       "12. '5421'\n",
       "13. '6'\n",
       "14. '5918'\n",
       "15. '7'\n",
       "16. '6265'\n",
       "17. '8'\n",
       "18. '5851'\n",
       "19. '9'\n",
       "20. '5949'\n",
       "\n",
       "\n"
      ],
      "text/plain": [
       "       [,1] [,2] [,3] [,4] [,5] [,6] [,7] [,8] [,9] [,10]\n",
       "Label  0    1    2    3    4    5    6    7    8    9    \n",
       "Counts 5923 6742 5958 6131 5842 5421 5918 6265 5851 5949 "
      ]
     },
     "metadata": {},
     "output_type": "display_data"
    },
    {
     "name": "stdout",
     "output_type": "stream",
     "text": [
      "Rows Read: 10000, Total Rows Processed: 10000, Total Chunk Time: 0.008 seconds \n",
      "Computation time: 0.020 seconds.\n"
     ]
    },
    {
     "data": {
      "text/html": [
       "<table>\n",
       "<tbody>\n",
       "\t<tr><th scope=row>Label</th><td>0   </td><td>1   </td><td>2   </td><td>3   </td><td>4   </td><td>5   </td><td>6   </td><td>7   </td><td>8   </td><td>9   </td></tr>\n",
       "\t<tr><th scope=row>Counts</th><td> 980</td><td>1135</td><td>1032</td><td>1010</td><td> 982</td><td> 892</td><td> 958</td><td>1028</td><td> 974</td><td>1009</td></tr>\n",
       "</tbody>\n",
       "</table>\n"
      ],
      "text/latex": [
       "\\begin{tabular}{r|llllllllll}\n",
       "\tLabel & 0    & 1    & 2    & 3    & 4    & 5    & 6    & 7    & 8    & 9   \\\\\n",
       "\tCounts &  980 & 1135 & 1032 & 1010 &  982 &  892 &  958 & 1028 &  974 & 1009\\\\\n",
       "\\end{tabular}\n"
      ],
      "text/markdown": [
       "1. '0'\n",
       "2. ' 980'\n",
       "3. '1'\n",
       "4. '1135'\n",
       "5. '2'\n",
       "6. '1032'\n",
       "7. '3'\n",
       "8. '1010'\n",
       "9. '4'\n",
       "10. ' 982'\n",
       "11. '5'\n",
       "12. ' 892'\n",
       "13. '6'\n",
       "14. ' 958'\n",
       "15. '7'\n",
       "16. '1028'\n",
       "17. '8'\n",
       "18. ' 974'\n",
       "19. '9'\n",
       "20. '1009'\n",
       "\n",
       "\n"
      ],
      "text/plain": [
       "       [,1] [,2] [,3] [,4] [,5] [,6] [,7] [,8] [,9] [,10]\n",
       "Label  0    1    2    3    4    5    6    7    8    9    \n",
       "Counts  980 1135 1032 1010  982  892  958 1028  974 1009 "
      ]
     },
     "metadata": {},
     "output_type": "display_data"
    }
   ],
   "source": [
    "t(as.data.frame(rxSummary(~ Label, dataTrain)$categorical))\n",
    "t(as.data.frame(rxSummary(~ Label, dataTest)$categorical))"
   ]
  },
  {
   "cell_type": "markdown",
   "metadata": {},
   "source": [
    "### <a id=\"Model\">2.4. DEFINE THE MODEL</a>\n",
    "\n",
    "The model is a formula that describes what column has the label, and what columns are to be used to rxPredict the label. Since we will use the pixel values of the images as features, we create a formula that says that Label is to be rxPredicted by these features."
   ]
  },
  {
   "cell_type": "code",
   "execution_count": 7,
   "metadata": {
    "collapsed": false
   },
   "outputs": [],
   "source": [
    "#-----------------------------------------------------------------------\n",
    "# 4. Define the model to be fit.\n",
    "#-----------------------------------------------------------------------\n",
    "# The variables in the data\n",
    "allVars <- names(dataTrain)\n",
    "\n",
    "# The image's pixel values.\n",
    "xVars <- setdiff(allVars, c(\"Label\", \"splitVar\"))\n",
    "\n",
    "# The model is a formula that says that an image is to be classified\n",
    "# using its pixel values.\n",
    "model <- formula(paste(\"Label ~\", paste(xVars, collapse = \" + \")))"
   ]
  },
  {
   "cell_type": "markdown",
   "metadata": {},
   "source": [
    "The left-hand side of the formula is the label, while the right-hand side lists the rxPredictors.\n",
    "\n",
    "*Note: We do not print this formula because of its size.*"
   ]
  },
  {
   "cell_type": "markdown",
   "metadata": {},
   "source": [
    "### <a id=\"Fit\">2.5. FIT THE MODEL</a>\n",
    "\n",
    "The model will be fit by learners that can rxPredict class data: rxLogisticRegression, rxNeuralNet with a simple deep learning architecture, and rxNeuralNet with LeCun's Net5 architecture. In the next section, each fit will be used to score the test data. The comments in this section give a glimpse of the kind of work done by each learner.\n",
    "\n",
    "We begin by fitting a multi-class logistic regression. This approach is not deep learning, and  provides a benchmark for comparison of the performance and learning times of the deep learning approaches."
   ]
  },
  {
   "cell_type": "code",
   "execution_count": 8,
   "metadata": {
    "collapsed": false
   },
   "outputs": [
    {
     "name": "stdout",
     "output_type": "stream",
     "text": [
      "Automatically adding a MinMax normalization transform, use 'norm=Warn' or 'norm=No' to turn this behavior off.\n",
      "Beginning read for block: 1\n",
      "Rows Read: 10000, Read Time: 0.145, Transform Time: 0\n",
      "Beginning read for block: 2\n",
      "Rows Read: 10000, Read Time: 0.105, Transform Time: 0\n",
      "Beginning read for block: 3\n",
      "Rows Read: 10000, Read Time: 0.096, Transform Time: 0\n",
      "Beginning read for block: 4\n",
      "Rows Read: 10000, Read Time: 0.091, Transform Time: 0\n",
      "Beginning read for block: 5\n",
      "Rows Read: 10000, Read Time: 0.096, Transform Time: 0\n",
      "Beginning read for block: 6\n",
      "Rows Read: 10000, Read Time: 0.093, Transform Time: 0\n",
      "Beginning read for block: 7\n",
      "No rows remaining. Finished reading data set. \n",
      "Beginning read for block: 1\n",
      "Rows Read: 10000, Read Time: 0.128, Transform Time: 0\n",
      "Beginning read for block: 2\n",
      "Rows Read: 10000, Read Time: 0.135, Transform Time: 0\n",
      "Beginning read for block: 3\n",
      "Rows Read: 10000, Read Time: 0.131, Transform Time: 0\n",
      "Beginning read for block: 4\n",
      "Rows Read: 10000, Read Time: 0.105, Transform Time: 0\n",
      "Beginning read for block: 1\n",
      "Rows Read: 10000, Read Time: 0.134, Transform Time: 0\n",
      "Beginning read for block: 2\n",
      "Rows Read: 10000, Read Time: 0.142, Transform Time: 0\n",
      "Beginning read for block: 3\n",
      "Rows Read: 10000, Read Time: 0.127, Transform Time: 0\n",
      "Beginning read for block: 4\n",
      "Rows Read: 10000, Read Time: 0.125, Transform Time: 0\n",
      "Beginning read for block: 5\n",
      "Rows Read: 10000, Read Time: 0.18, Transform Time: 0\n",
      "Beginning read for block: 6\n",
      "Rows Read: 10000, Read Time: 0.16, Transform Time: 0\n",
      "Beginning read for block: 7\n",
      "No rows remaining. Finished reading data set. \n",
      "Wrote 60000 rows across 2 columns in 00:00:02.8713140\n",
      "LBFGS multi-threading will attempt to load dataset into memory. In case of out-of-memory issues, turn off multi-threading by setting trainThreads to 1.\n",
      "Beginning optimization\n",
      "num vars: 7850\n",
      "improvement criterion: Mean Improvement\n",
      "L1 regularization selected 3750 of 7850 weights.\n",
      "Not training a calibrator because it is not needed.\n",
      "Elapsed time: 00:00:39.9960421\n",
      "Elapsed time: 00:00:00.2057257\n"
     ]
    }
   ],
   "source": [
    "#-----------------------------------------------------------------------\n",
    "# 5. Fit the model using different learners.\n",
    "#-----------------------------------------------------------------------\n",
    "# Fit the model with rxLogisticRegression. This finds the variable weights that\n",
    "# are most useful for classifying images. The rxLogisticRegression learner\n",
    "# automatically adjusts the weights to select those variables that are\n",
    "# most useful for classification. Unlike the convolutional network\n",
    "# approaches shown below, this logistic regression does not take into\n",
    "# account the spatial relationships between the pixels of the images.\n",
    "rxLogisticRegressionFit <- rxLogisticRegression(model, dataTrain, type = \"multiClass\")"
   ]
  },
  {
   "cell_type": "markdown",
   "metadata": {},
   "source": [
    "We then fit a four-layer convolutional neural network (CNN). This network learns spatial features in two successive sets of convolutional feature map. It then combines the results of the second convolutional layer into 100 features, and these are used by the result layer to classify the images."
   ]
  },
  {
   "cell_type": "code",
   "execution_count": 9,
   "metadata": {
    "collapsed": false
   },
   "outputs": [
    {
     "name": "stdout",
     "output_type": "stream",
     "text": [
      "Not adding a normalizer.\n",
      "Beginning read for block: 1\n",
      "Rows Read: 10000, Read Time: 0.128, Transform Time: 0\n",
      "Beginning read for block: 2\n",
      "Rows Read: 10000, Read Time: 0.11, Transform Time: 0\n",
      "Beginning read for block: 3\n",
      "Rows Read: 10000, Read Time: 0.111, Transform Time: 0\n",
      "Beginning read for block: 4\n",
      "Rows Read: 10000, Read Time: 0.107, Transform Time: 0\n",
      "Beginning read for block: 1\n",
      "Rows Read: 10000, Read Time: 0.14, Transform Time: 0\n",
      "Beginning read for block: 2\n",
      "Rows Read: 10000, Read Time: 0.106, Transform Time: 0\n",
      "Beginning read for block: 3\n",
      "Rows Read: 10000, Read Time: 0.1, Transform Time: 0\n",
      "Beginning read for block: 4\n",
      "Rows Read: 10000, Read Time: 0.104, Transform Time: 0\n",
      "Beginning read for block: 5\n",
      "Rows Read: 10000, Read Time: 0.154, Transform Time: 0\n",
      "Beginning read for block: 6\n",
      "Rows Read: 10000, Read Time: 0.133, Transform Time: 0\n",
      "Beginning read for block: 7\n",
      "No rows remaining. Finished reading data set. \n",
      "Wrote 60000 rows across 2 columns in 00:00:02.7223789\n",
      "Using: SSE Math\n",
      "Loading net from: \r\n",
      "\r\n",
      "***** Net definition *****\r\n",
      "  const T = true;\r\n",
      "  const F = false;\r\n",
      "  input Picture [28, 28];\r\n",
      "  hidden Convolve1 [5, 12, 12] from Picture convolve {\r\n",
      "    InputShape = [28, 28];\r\n",
      "    KernelShape = [5, 5];\r\n",
      "    Stride = [2, 2];\r\n",
      "    MapCount = 5;\r\n",
      "  }\r\n",
      "  hidden Convolve2 [50, 4, 4] from Convolve1 convolve {\r\n",
      "    InputShape = [5, 12, 12];\r\n",
      "    KernelShape = [1, 5, 5];\r\n",
      "    Stride = [1, 2, 2];\r\n",
      "    Sharing = [F, T, T];\r\n",
      "    MapCount = 10;\r\n",
      "  }\r\n",
      "  hidden Full3 [100] from Convolve2 all;\r\n",
      "  output Result [10] from Full3 all;\r\n",
      "***** Reduced *****\r\n",
      "  const T = true;\r\n",
      "  const F = false;\r\n",
      "  input Picture [28, 28];\r\n",
      "  hidden Convolve1 [5, 12, 12] from Picture convolve {\r\n",
      "    InputShape = [28, 28];\r\n",
      "    KernelShape = [5, 5];\r\n",
      "    Stride = [2, 2];\r\n",
      "    MapCount = 5;\r\n",
      "  }\r\n",
      "  hidden Convolve2 [50, 4, 4] from Convolve1 convolve {\r\n",
      "    InputShape = [5, 12, 12];\r\n",
      "    KernelShape = [1, 5, 5];\r\n",
      "    Stride = [1, 2, 2];\r\n",
      "    Sharing = [false, true, true];\r\n",
      "    MapCount = 10;\r\n",
      "  }\r\n",
      "  hidden Full3 100 from Convolve2 all;\r\n",
      "  output Result 10 from Full3 all;\r\n",
      "***** End net definition *****\r\n",
      "Input count: 784\n",
      "Output count: 10\n",
      "Output Function: SoftMax\n",
      "Loss Function: CrossEntropy\n",
      "PreTrainer: NoPreTrainer\n",
      "___________________________________________________________________\n",
      "Starting training...\n",
      "Learning rate: 0.001000\n",
      "Momentum: 0.000000\n",
      "InitWtsDiameter: 1.000000\n",
      "___________________________________________________________________\n",
      "Initializing 3 Hidden Layers, 82540 Weights...\n",
      "Estimated Pre-training MeanError = 5.269557\n",
      "Iter:1/9, MeanErr=1.535975(-70.85%%), 693.46M WeightUpdates/sec\n",
      "Iter:2/9, MeanErr=0.653371(-57.46%%), 709.24M WeightUpdates/sec\n",
      "Iter:3/9, MeanErr=0.485036(-25.76%%), 722.39M WeightUpdates/sec\n",
      "Iter:4/9, MeanErr=0.405417(-16.42%%), 638.19M WeightUpdates/sec\n",
      "Iter:5/9, MeanErr=0.357963(-11.71%%), 724.03M WeightUpdates/sec\n",
      "Iter:6/9, MeanErr=0.329527(-7.94%%), 720.12M WeightUpdates/sec\n",
      "Iter:7/9, MeanErr=0.299872(-9.00%%), 737.07M WeightUpdates/sec\n",
      "Iter:8/9, MeanErr=0.280437(-6.48%%), 710.89M WeightUpdates/sec\n",
      "Iter:9/9, MeanErr=0.269260(-3.99%%), 691.28M WeightUpdates/sec\n",
      "Done!\n",
      "Estimated Post-training MeanError = 0.265417\n",
      "___________________________________________________________________\n",
      "Not training a calibrator because it is not needed.\n",
      "Elapsed time: 00:01:12.3026364\n"
     ]
    }
   ],
   "source": [
    "#-----------------------------------------------------------------------\n",
    "# Fit the model with rxNeuralNet. This learns which neural network\n",
    "# weights are needed to classify images as digits based on the pixel\n",
    "# value variables. The 'numIterations' input says how many times the\n",
    "# learners goes over the training data to find the correct weights.\n",
    "#-----------------------------------------------------------------------\n",
    "# TRY THIS: Double numIterations from 9 to 18 and see:\n",
    "# 1. how much better the fit network gets at digit classification, and\n",
    "# 2. how much longer the learner needs to fit the network.\n",
    "#-----------------------------------------------------------------------\n",
    "# The definition of the convolutional neural network.\n",
    "rxNeuralNet <- readChar(file.path(dataDir, \"MNIST.nn\"),\n",
    "                      file.info(file.path(dataDir, \"MNIST.nn\"))$size)\n",
    "rxNeuralNetFit <- rxNeuralNet(model, data = dataTrain,\n",
    "                          type = \"multiClass\",\n",
    "                          numIterations = 9,\n",
    "                          netDefinition = rxNeuralNet,\n",
    "                          initWtsDiameter = 1.0,\n",
    "                          normalize = \"No\")"
   ]
  },
  {
   "cell_type": "markdown",
   "metadata": {},
   "source": [
    "Compare the neural network and the logistic regression:How long did each take to fit?\n",
    "\n",
    "Finally, we fit a seven-layer CNN similar to the one described by Yann LeCun in his 1998 paper. In successive layers, this network alternates sets of convolutional feature maps and subsampling.  It then combines the 120 features produced by the last convolutional layer into 84 features, and these are used by the result layer to classify the images. For more information, see http://yann.lecun.com/exdb/publis/pdf/lecun-98.pdf.\n",
    "\n",
    "*Note: The cell below can take more than eight minutes to run to completion.*"
   ]
  },
  {
   "cell_type": "code",
   "execution_count": 10,
   "metadata": {
    "collapsed": false,
    "scrolled": false
   },
   "outputs": [],
   "source": [
    "#-----------------------------------------------------------------------\n",
    "# Fit the model with rxNeuralNet. This network is an approximation of\n",
    "# LeNet-5, Yann LeCun's 1998 convolutional network.\n",
    "#-----------------------------------------------------------------------\n",
    "# TRY THIS: Increase numIterations until the fit of LeCun-5 reaches 99%\n",
    "# accuracy.\n",
    "#-----------------------------------------------------------------------\n",
    "# The definition of the LeCun-5 neural network.\n",
    "leCun5Net <- readChar(file.path(dataDir, \"LeCun5.nn\"),\n",
    "                      file.info(file.path(dataDir, \"LeCun5.nn\"))$size)\n",
    "if (file.exists(file = file.path(dataDir, \"leCun5NetFit.RData\"))) {\n",
    "    load(file = file.path(dataDir, \"leCun5NetFit.RData\"))\n",
    "} else {\n",
    "    leCun5NetFit <- rxNeuralNet(model, data = dataTrain,\n",
    "                              type = \"multiClass\",\n",
    "                              numIterations = 9,\n",
    "                              netDefinition = leCun5Net,\n",
    "                              initWtsDiameter = 1.0,\n",
    "                              normalize = \"No\")\n",
    "    save(leCun5NetFit, file = file.path(dataDir, \"leCun5NetFit.RData\"))\n",
    "}"
   ]
  },
  {
   "cell_type": "markdown",
   "metadata": {},
   "source": [
    "Compare LeCun's neural network and the previous one: How long did each take to fit?\n",
    "\n",
    "In the next two sections, we will compute the classification performance of each method."
   ]
  },
  {
   "cell_type": "markdown",
   "metadata": {},
   "source": [
    "### <a id=\"Score\">2.6. SCORE THE TEST DATA</a>\n",
    "\n",
    "Each fit will be used to score the test data, and then the score columns are concatenated in one table. This provides each fit's rxPredictions for side-by-side convenient comparison."
   ]
  },
  {
   "cell_type": "code",
   "execution_count": 11,
   "metadata": {
    "collapsed": false
   },
   "outputs": [
    {
     "name": "stdout",
     "output_type": "stream",
     "text": [
      "Beginning read for block: 1\n",
      "Rows Read: 10000, Read Time: 0.138, Transform Time: 0\n",
      "Beginning read for block: 2\n",
      "No rows remaining. Finished reading data set. \n",
      "Elapsed time: 00:00:00.7597420\n",
      "Finished writing 10000 rows.\n",
      "Writing completed.\n",
      "Beginning read for block: 1\n",
      "Rows Read: 10000, Read Time: 0.13, Transform Time: 0\n",
      "Beginning read for block: 2\n",
      "No rows remaining. Finished reading data set. \n",
      "Elapsed time: 00:00:00.9389510\n",
      "Finished writing 10000 rows.\n",
      "Writing completed.\n",
      "Beginning read for block: 1\n",
      "Rows Read: 10000, Read Time: 0.124, Transform Time: 0\n",
      "Beginning read for block: 2\n",
      "No rows remaining. Finished reading data set. \n",
      "Elapsed time: 00:00:02.9220124\n",
      "Finished writing 10000 rows.\n",
      "Writing completed.\n",
      "File merge progress at row: 10000\n",
      "Time to merge data file: 0.109 seconds\n",
      "Rows Read: 10000, Total Rows Processed: 10000, Total Chunk Time: 0.040 seconds \n",
      "File merge progress at row: 10000\n",
      "Time to merge data file: 0.156 seconds\n"
     ]
    }
   ],
   "source": [
    "#-----------------------------------------------------------------------\n",
    "# 6. Score the held-aside test data with the fit models.\n",
    "#-----------------------------------------------------------------------\n",
    "# The scores are each record's probability of being one of the ten\n",
    "# digits. The rxPredicted label correspond to the digit with the highest\n",
    "# score. We combine each learner's rxPredictions and the label into one\n",
    "# Xdf.\n",
    "rxLogisticRegressionScores <-\n",
    "    rxPredict(rxLogisticRegressionFit, dataTest, suffix = \".rxLogisticRegression\",\n",
    "            extraVarsToWrite = \"Label\",\n",
    "            outData = tempfile(fileext = \".xdf\"))\n",
    "rxNeuralNetScores <-\n",
    "    rxPredict(rxNeuralNetFit, dataTest, suffix = \".rxNeuralNet\",\n",
    "            outData = tempfile(fileext = \".xdf\"))\n",
    "leCun5NetScores <-\n",
    "    rxPredict(leCun5NetFit, dataTest, suffix = \".leCun5Net\",\n",
    "            outData = tempfile(fileext = \".xdf\"))\n",
    "fitScores <- rxMerge(list(rxLogisticRegressionScores, rxNeuralNetScores, leCun5NetScores),\n",
    "                     type = \"oneToOne\")\n",
    "names(fitScores) <- gsub(\"PredictedLabel.\", \"\", names(fitScores))"
   ]
  },
  {
   "cell_type": "markdown",
   "metadata": {},
   "source": [
    "We see in the above results that the number of rows in the results is the same as the number of rows in the test data."
   ]
  },
  {
   "cell_type": "markdown",
   "metadata": {},
   "source": [
    "### <a id=\"Compare\">2.7. COMPARE THE FIT MODEL PERFORMANCE</a>\n",
    "\n",
    "For each fit model, its rxPredictions and the Label are used to compute a confusion table for that fit. A confusion table shows the numbers of each actual digit that was classified as one of the digits 0 through 9."
   ]
  },
  {
   "cell_type": "code",
   "execution_count": 12,
   "metadata": {
    "collapsed": false
   },
   "outputs": [
    {
     "name": "stdout",
     "output_type": "stream",
     "text": [
      "Rows Read: 10000, Total Rows Processed: 10000, Total Chunk Time: Less than .001 seconds \n",
      "Computation time: 0.004 seconds.\n",
      "Rows Read: 10000, Total Rows Processed: 10000, Total Chunk Time: 0.001 seconds \n",
      "Computation time: 0.004 seconds.\n",
      "Rows Read: 10000, Total Rows Processed: 10000, Total Chunk Time: 0.001 seconds \n",
      "Computation time: 0.004 seconds.\n"
     ]
    }
   ],
   "source": [
    "#-----------------------------------------------------------------------\n",
    "# 7. Compare the performance of fit models.\n",
    "#-----------------------------------------------------------------------\n",
    "# Create square confusion tables. The entries of these tables count the\n",
    "# number of images of a digit that were classified as being one of the\n",
    "# ten digits. The entries on a table's main diagonal, stretching from\n",
    "# the top-left corner to the bottom-right corner, count the number of\n",
    "# images that were correctly classified. The row sums are the counts\n",
    "# of the number of times each digit was in an image. The column sums\n",
    "# are the counts of the number of times each digit was rxPredicted.\n",
    "rxLogisticRegressionConfusion <-\n",
    "    rxCrossTabs(~ Label:rxLogisticRegression, fitScores, returnXtabs = TRUE)\n",
    "rxNeuralNetConfusion <-\n",
    "    rxCrossTabs(~ Label:rxNeuralNet, fitScores, returnXtabs = TRUE)\n",
    "leCun5NetConfusion <-\n",
    "    rxCrossTabs(~ Label:leCun5Net, fitScores, returnXtabs = TRUE)"
   ]
  },
  {
   "cell_type": "markdown",
   "metadata": {},
   "source": [
    "Here is the confusion table for the rxLogisticRegression learner:"
   ]
  },
  {
   "cell_type": "code",
   "execution_count": 13,
   "metadata": {
    "collapsed": false
   },
   "outputs": [
    {
     "data": {
      "text/plain": [
       "     rxLogisticRegression\n",
       "Label    0    1    2    3    4    5    6    7    8    9\n",
       "    0  958    0    2    3    0    7    4    5    1    0\n",
       "    1    0 1112    3    2    0    2    3    2   11    0\n",
       "    2    6    8  931   14   10    3   13   10   34    3\n",
       "    3    4    1   16  922    0   25    3   11   22    6\n",
       "    4    1    1    5    3  920    0    9    3    8   32\n",
       "    5   10    2    3   35    9  777   14    8   31    3\n",
       "    6    9    3    5    2    8   15  912    2    2    0\n",
       "    7    1    9   23    5    6    1    0  950    1   32\n",
       "    8    7   10    5   21    9   26   10    8  867   11\n",
       "    9   11    8    1    9   26    6    0   19    7  922"
      ]
     },
     "metadata": {},
     "output_type": "display_data"
    }
   ],
   "source": [
    "rxLogisticRegressionConfusion"
   ]
  },
  {
   "cell_type": "markdown",
   "metadata": {},
   "source": [
    "Each row of the table counts the images that show the row's digit, and each column has the images that were classified as the column's digit. The numbers on the diagonal show the counts of times the model fit with rxLogisticRegression correctly assigned a digit to an image. The off-diagonal numbers show the errors.\n",
    "\n",
    "The single fitScores table also allows comparison of the rxPredictions of each learner:"
   ]
  },
  {
   "cell_type": "code",
   "execution_count": 14,
   "metadata": {
    "collapsed": false
   },
   "outputs": [
    {
     "name": "stdout",
     "output_type": "stream",
     "text": [
      "Rows Read: 10000, Total Rows Processed: 10000, Total Chunk Time: 0.001 seconds \n",
      "Computation time: 0.003 seconds.\n"
     ]
    },
    {
     "data": {
      "text/plain": [
       "                    rxNeuralNet\n",
       "rxLogisticRegression    0    1    2    3    4    5    6    7    8    9\n",
       "                   0  969    0    6    5    0   12    9    0    3    3\n",
       "                   1    0 1117   11    0    1    2    1   10   11    1\n",
       "                   2    2    1  938   14    3    3   11   15    6    1\n",
       "                   3    3    0   14  947    2   27    3    6   12    2\n",
       "                   4    0    3    5    1  918   10    8    8    3   32\n",
       "                   5    8    1    3   35    1  780   11    2   18    3\n",
       "                   6    3    1   11    2    5   18  921    0    7    0\n",
       "                   7    4    4    8   10    2    6    2  963    6   13\n",
       "                   8    1    6   31   23    7   30    1    2  880    3\n",
       "                   9    2    1    5    4   35    7    0   33    7  915"
      ]
     },
     "metadata": {},
     "output_type": "display_data"
    }
   ],
   "source": [
    "rxCrossTabs(~ rxLogisticRegression:rxNeuralNet, fitScores, returnXtabs = TRUE)"
   ]
  },
  {
   "cell_type": "markdown",
   "metadata": {},
   "source": [
    "The numbers on the diagonal show that the model fit with rxLogisticRegression and with convolutional rxNeuralNet agree on most of their rxPredictions. The off-diagonal numbers show the areas of disagreement.\n",
    "\n",
    "Below, the confusion tables are then used to compute the per-digit accuracy, precision, and recall for each fit."
   ]
  },
  {
   "cell_type": "code",
   "execution_count": 15,
   "metadata": {
    "collapsed": false
   },
   "outputs": [],
   "source": [
    "# The accuracy of the fit models. This is the ratio of the number of\n",
    "# correct classification of images as having a digit to the total\n",
    "# number of images that were classified.\n",
    "accuracy <-\n",
    "    cbind(rxLogisticRegression = sum(diag(rxLogisticRegressionConfusion)) /\n",
    "                             sum(rxLogisticRegressionConfusion),\n",
    "          rxNeuralNet = sum(diag(rxNeuralNetConfusion)) /\n",
    "                             sum(rxNeuralNetConfusion),\n",
    "          leCun5Net = sum(diag(leCun5NetConfusion)) /\n",
    "                             sum(leCun5NetConfusion))\n",
    "rownames(accuracy) <- \"Accuracy\"\n",
    "names(dimnames(accuracy)) <- c(\"\", \"Learner\")\n",
    "\n",
    "# The precision and recall of the fit model, by digit. For a given\n",
    "# digit, the precision is the fraction of assignments of that digit to\n",
    "# images that were correct. In contrast, the recall is the fraction of\n",
    "# images of that digit that were correct assigned that digit.\n",
    "precision <-\n",
    "    rbind(rxLogisticRegression = diag(rxLogisticRegressionConfusion) /\n",
    "                             colSums(rxLogisticRegressionConfusion),\n",
    "          rxNeuralNet = diag(rxNeuralNetConfusion) /\n",
    "                             colSums(rxNeuralNetConfusion),\n",
    "          leCun5Net = diag(leCun5NetConfusion) /\n",
    "                             colSums(leCun5NetConfusion))\n",
    "names(dimnames(precision)) <- c(\"Learner\", \"Digit\")\n",
    "\n",
    "recall <-\n",
    "    rbind(rxLogisticRegression = diag(rxLogisticRegressionConfusion) /\n",
    "                             rowSums(rxLogisticRegressionConfusion),\n",
    "          rxNeuralNet = diag(rxNeuralNetConfusion) /\n",
    "                             rowSums(rxNeuralNetConfusion),\n",
    "          leCun5Net = diag(leCun5NetConfusion) /\n",
    "                            rowSums(leCun5NetConfusion))\n",
    "names(dimnames(recall)) <- c(\"Learner\", \"Digit\")"
   ]
  },
  {
   "cell_type": "markdown",
   "metadata": {},
   "source": [
    "These accuracy, precision, and recall data are printed."
   ]
  },
  {
   "cell_type": "code",
   "execution_count": 16,
   "metadata": {
    "collapsed": false
   },
   "outputs": [
    {
     "name": "stdout",
     "output_type": "stream",
     "text": [
      "          Learner\n",
      "           rxLogisticRegression rxNeuralNet leCun5Net\n",
      "  Accuracy                 0.93        0.96      0.98\n",
      "\n",
      "Per digit precision:\n",
      "                      Digit\n",
      "Learner                   0    1    2    3    4    5    6    7    8    9\n",
      "  rxLogisticRegression 0.95 0.96 0.94 0.91 0.93 0.90 0.94 0.93 0.88 0.91\n",
      "  rxNeuralNet          0.97 0.98 0.95 0.93 0.97 0.94 0.96 0.95 0.95 0.96\n",
      "  leCun5Net            0.98 0.99 0.97 0.96 0.98 0.99 0.98 0.97 0.97 0.98\n",
      "\n",
      "Per digit recall:\n",
      "                      Digit\n",
      "Learner                   0    1    2    3    4    5    6    7    8    9\n",
      "  rxLogisticRegression 0.98 0.98 0.90 0.91 0.94 0.87 0.95 0.92 0.89 0.91\n",
      "  rxNeuralNet          0.98 0.98 0.95 0.96 0.97 0.95 0.97 0.96 0.93 0.93\n",
      "  leCun5Net            0.99 0.99 0.98 0.98 0.98 0.97 0.98 0.97 0.96 0.96\n"
     ]
    }
   ],
   "source": [
    "#-----------------------------------------------------------------------\n",
    "# Report the results.\n",
    "#-----------------------------------------------------------------------\n",
    "# Print the fit models's accuracies, and their per digit precision and\n",
    "# recall.\n",
    "print(accuracy, digits = 2)\n",
    "cat(\"\\nPer digit precision:\\n\")\n",
    "print(precision, digits = 2)\n",
    "cat(\"\\nPer digit recall:\\n\")\n",
    "print(recall, digits = 2)"
   ]
  },
  {
   "cell_type": "markdown",
   "metadata": {},
   "source": [
    "Finally, barplots are created to show side-by-side the per-digit precision and recall."
   ]
  },
  {
   "cell_type": "code",
   "execution_count": 17,
   "metadata": {
    "collapsed": false
   },
   "outputs": [
    {
     "data": {
      "image/png": "[encoded data removed]",
      "text/plain": [
       "Plot with title \"Per Digit Precision\""
      ]
     },
     "metadata": {},
     "output_type": "display_data"
    },
    {
     "data": {
      "image/png": "[encoded data removed]",
      "text/plain": [
       "Plot with title \"Per Digit Recall\""
      ]
     },
     "metadata": {},
     "output_type": "display_data"
    }
   ],
   "source": [
    "# Barplots showing side-by-side the per digit precision and recall\n",
    "# achieved by the fit models on the test data.\n",
    "barplot(precision,\n",
    "        legend.text = TRUE, beside = TRUE,\n",
    "        main = \"Per Digit Precision\",\n",
    "        xlab = \"Digit\", ylab = \"Precision\", ylim = 0:1,\n",
    "        args.legend = list(x = \"bottomright\"))\n",
    "barplot(recall,\n",
    "        legend.text = TRUE, beside = TRUE,\n",
    "        main = \"Per Digit Recall\",\n",
    "        xlab = \"Digit\", ylab = \"Recall\", ylim = 0:1,\n",
    "        args.legend = list(x = \"bottomright\"))"
   ]
  },
  {
   "cell_type": "markdown",
   "metadata": {},
   "source": [
    "## <a id=\"Next\">3. WHAT'S NEXT?</a>\n",
    "\n",
    "In the Microsoft ML samples directory, the script MNIST.R contains all the R code used in this tutorial. It also contains other scripts formatted to follow the steps used for this tutorial. Try them out interactively, and learn about other Microsoft ML capabilities."
   ]
  }
 ],
 "metadata": {
  "anaconda-cloud": {},
  "kernelspec": {
   "display_name": "R",
   "language": "R",
   "name": "ir"
  },
  "language_info": {
   "codemirror_mode": "r",
   "file_extension": ".r",
   "mimetype": "text/x-r-source",
   "name": "R",
   "pygments_lexer": "r",
   "version": "3.3.2"
  }
 },
 "nbformat": 4,
 "nbformat_minor": 1
}
