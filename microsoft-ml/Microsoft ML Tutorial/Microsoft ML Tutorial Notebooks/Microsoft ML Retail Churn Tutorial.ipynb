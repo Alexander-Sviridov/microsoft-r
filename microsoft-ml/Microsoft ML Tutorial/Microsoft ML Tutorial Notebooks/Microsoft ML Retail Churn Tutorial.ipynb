{
 "cells": [
  {
   "cell_type": "markdown",
   "metadata": {},
   "source": [
    "# Microsoft ML Retail Churn Tutorial\n",
    "\n",
    "1. [Overview](#Overview)\n",
    "2. [Fitting Models that Predict Retail Churn](#RetailChurn)\n",
    "3. [What's Next?](#Next)"
   ]
  },
  {
   "cell_type": "markdown",
   "metadata": {},
   "source": [
    "## <a id=\"Overview\">1. OVERVIEW</a>\n",
    "\n",
    "Microsoft Machine Learning, or Microsoft ML for short, is an R package within Microsoft R Services that includes powerful machine learning algorithms and associated tools. The tutorial is an introduction to Microsoft ML for data scientists who want to take advantage of its unique capabilities.  It is intended primarily for those who are comfortable with using Microsoft R Services for data science, and want to see an end-to-end example that uses Microsoft ML to carry out common data science tasks."
   ]
  },
  {
   "cell_type": "markdown",
   "metadata": {},
   "source": [
    "## <a id=\"RetailChurn\">2. FITTING MODELS THAT PREDICT RETAIL CHURN</a>\n",
    "\n",
    "The tutorial steps through the fitting of a model for rxPredicting retail churn. Customer churn is an expensive problem in retail, where a fraction of the current customers, the churners, stop patronizing a business, leading to a loss of business. We will focus on rxPredicting which customers are likely to churn, and we will leave identifying how to keep customers from churning to other tutorials.\n",
    "\n",
    "The tutorial begins from data imported from a retail database, goes through the creation of a label identifying customers who have churned and the creation of features based on customer purchase history, fits a model using multiple learning algorithms, and compares the performance of these fit models to select the best one. The initial and final steps in this process will be familiar to Microsoft R Services users, while the model fitting and performance evaluation steps will involve new Microsoft ML commands."
   ]
  },
  {
   "cell_type": "markdown",
   "metadata": {
    "collapsed": true
   },
   "source": [
    "### <a id=\"Packages\">2.1. LOADING THE PACKAGES</a>\n",
    "\n",
    "The tutorial is broken into steps, the first being loading the Microsoft ML package. When you execute the first step, there should be no output."
   ]
  },
  {
   "cell_type": "code",
   "execution_count": 1,
   "metadata": {
    "collapsed": true
   },
   "outputs": [],
   "source": [
    "#-----------------------------------------------------------------------\n",
    "# 1. Load packages.\n",
    "#-----------------------------------------------------------------------\n",
    "if (!suppressPackageStartupMessages(require(\"MicrosoftML\",\n",
    "                                            quietly = TRUE,\n",
    "                                            warn.conflicts = FALSE))) {\n",
    "    stop(\"The MicrosoftML package does not seem to be installed, so this\\n\",\n",
    "         \"script cannot be run. If Microsoft R Server with MML is installed,\\n\",\n",
    "         \"you may need to switch the R engine option. In R Tools for Visual\\n\",\n",
    "         \"Studio, this option is under:\\n\",\n",
    "         \"\\tR Tools -> Options -> R Engine.\\n\",\n",
    "         \"If Microsoft R Server with MML is not installed, you can download it\\n\",\n",
    "         \"from https://microsoft.sharepoint.com/teams/TLC/SitePages/MicrosoftML.aspx\\n\")\n",
    "}"
   ]
  },
  {
   "cell_type": "markdown",
   "metadata": {},
   "source": [
    "### <a id=\"Import\">2.2. IMPORT DATA</a>\n",
    "\n",
    "The second step consists of importing the data we will use to fit a model. In our case, there are two tables of data: the customer table, indexed by a UserId, and the customer activity table, indexed by a TransactionId. This section imports the dataCustomers and dataActivity tables into Xdfs. These Xdfs are an efficient way of working with large amounts of data. They are files in which the rows are grouped in blocks whose size is specified by the parameter rowsPerBlock."
   ]
  },
  {
   "cell_type": "code",
   "execution_count": 2,
   "metadata": {
    "collapsed": false
   },
   "outputs": [],
   "source": [
    "#-----------------------------------------------------------------------\n",
    "# 2. Import data.\n",
    "#-----------------------------------------------------------------------\n",
    "\n",
    "# The directory containing data files.\n",
    "dataDir <- file.path(\"Data\")\n",
    "\n",
    "# Verify that the data files exists.\n",
    "if (!all(file.exists(file.path(dataDir,\n",
    "                               c(\"Retail Churn Users.csv\",\n",
    "                                 \"Retail Churn Activity.csv\"))))) {\n",
    "          #12345678901234567890123456789012345678901234567890123456789012345678901\n",
    "    stop(\"The data files needed for running this script cannot be found.\\n\",\n",
    "         \"You may need to set R's working directory to the location of the Data\\n\",\n",
    "         \"directory.\\n\")\n",
    "}\n",
    "\n",
    "# The data chunk size.\n",
    "rowsPerBlock <- 1000000"
   ]
  },
  {
   "cell_type": "markdown",
   "metadata": {},
   "source": [
    "The RetailUsers table has one row per customer, and five columns: UserId, Age, Address, Gender, and UserType. Because the Gender and UserType columns have the same value for all users, they are ignored. The remaining three columns are factors."
   ]
  },
  {
   "cell_type": "code",
   "execution_count": 3,
   "metadata": {
    "collapsed": false
   },
   "outputs": [
    {
     "name": "stdout",
     "output_type": "stream",
     "text": [
      "Rows Read: 10000, Total Rows Processed: 10000, Total Chunk Time: 0.049 seconds \n"
     ]
    }
   ],
   "source": [
    "# The customer characteristics data. Drop the constant-valued Gender\n",
    "# and UserType columns.\n",
    "dataCustomersSource <-\n",
    "    RxTextData(file.path(dataDir, \"Retail Churn Users.csv\"),\n",
    "               varsToDrop = c(\"Gender\", \"UserType\"),\n",
    "               colInfo = list(UserId = list(type = \"factor\"),\n",
    "                              Age = list(type = \"factor\"),\n",
    "                              Address = list(type = \"factor\")))\n",
    "\n",
    "# Import the customer characteristics.\n",
    "dataCustomers <-\n",
    "    rxImport(dataCustomersSource,\n",
    "             outFile = tempfile(fileext = \".xdf\"),\n",
    "             rowsPerRead = rowsPerBlock)"
   ]
  },
  {
   "cell_type": "markdown",
   "metadata": {},
   "source": [
    "You can explore these newly loaded data by using commands. For example, you can view the first few rows of the customer table as follows:"
   ]
  },
  {
   "cell_type": "code",
   "execution_count": 4,
   "metadata": {
    "collapsed": false,
    "scrolled": true
   },
   "outputs": [
    {
     "data": {
      "text/html": [
       "<table>\n",
       "<thead><tr><th scope=col>UserId</th><th scope=col>Age</th><th scope=col>Address</th></tr></thead>\n",
       "<tbody>\n",
       "\t<tr><td>2105345</td><td>D      </td><td>F      </td></tr>\n",
       "\t<tr><td>2085920</td><td>F      </td><td>F      </td></tr>\n",
       "\t<tr><td>1976717</td><td>C      </td><td>C      </td></tr>\n",
       "\t<tr><td>768535 </td><td>A      </td><td>E      </td></tr>\n",
       "\t<tr><td>1895117</td><td>D      </td><td>F      </td></tr>\n",
       "\t<tr><td>1587807</td><td>J      </td><td>E      </td></tr>\n",
       "</tbody>\n",
       "</table>\n"
      ],
      "text/latex": [
       "\\begin{tabular}{r|lll}\n",
       " UserId & Age & Address\\\\\n",
       "\\hline\n",
       "\t 2105345 & D       & F      \\\\\n",
       "\t 2085920 & F       & F      \\\\\n",
       "\t 1976717 & C       & C      \\\\\n",
       "\t 768535  & A       & E      \\\\\n",
       "\t 1895117 & D       & F      \\\\\n",
       "\t 1587807 & J       & E      \\\\\n",
       "\\end{tabular}\n"
      ],
      "text/plain": [
       "  UserId  Age Address\n",
       "1 2105345 D   F      \n",
       "2 2085920 F   F      \n",
       "3 1976717 C   C      \n",
       "4 768535  A   E      \n",
       "5 1895117 D   F      \n",
       "6 1587807 J   E      "
      ]
     },
     "metadata": {},
     "output_type": "display_data"
    }
   ],
   "source": [
    "head(dataCustomers)"
   ]
  },
  {
   "cell_type": "markdown",
   "metadata": {},
   "source": [
    "The RetailActivity table has one row per transaction, and nine columns: Column 0, TransactionId, Timestamp, UserId, ItemId, Quantity, Value, Location, and ProductCategory. Because Column 0 is the row number, it is ignored, and because Location and ProductCategory each have the same value for all users, they are ignored. Of the remaining six columns, three are factors: TransactionId, UserId, and ItemId, Timestamp is a date, and Quality and Value are numbers.\n",
    "\n",
    "Note:\n",
    "* Because Timestamp is a date, it is first read in as a character variable, and then a transform is applied to convert it to a date.\n",
    "* A key aspect of the import process consists in using the list of UserIds from the dataCustomers table to import the dataActivity table; this allows later table merges to be successful without additional work."
   ]
  },
  {
   "cell_type": "code",
   "execution_count": 5,
   "metadata": {
    "collapsed": false
   },
   "outputs": [
    {
     "name": "stdout",
     "output_type": "stream",
     "text": [
      "Rows Read: 252204, Total Rows Processed: 252204, Total Chunk Time: 5.595 seconds \n"
     ]
    }
   ],
   "source": [
    "# The levels for UserId. This is used when importing customer activity.\n",
    "UserId.levels <-\n",
    "    rxGetVarInfo(dataCustomers, varsToKeep = \"UserId\")$UserId$levels\n",
    "\n",
    "# The customer activity. Drop the row count Column 0 column and the\n",
    "# constant-valued Location and ProductCategory columns.\n",
    "dataActivitySource <-\n",
    "    RxTextData(file.path(dataDir, \"Retail Churn Activity.csv\"),\n",
    "               varsToDrop = c(\"Column 0\", \"Location\", \"ProductCategory\"),\n",
    "               colInfo = list(TransactionId = list(type = \"factor\"),\n",
    "                              Timestamp = list(type = \"character\"),\n",
    "                              UserId = list(type = \"factor\",\n",
    "                                            levels = UserId.levels),\n",
    "                              ItemId = list(type = \"factor\")))\n",
    "\n",
    "# Import the customer activity.\n",
    "dataActivity <-\n",
    "    rxImport(dataActivitySource,\n",
    "             transforms = list(Timestamp = as.POSIXct(Timestamp,\n",
    "                                                      format = \"%m/%d/%Y\")),\n",
    "             outFile = tempfile(fileext = \".xdf\"),\n",
    "             rowsPerRead = rowsPerBlock)"
   ]
  },
  {
   "cell_type": "markdown",
   "metadata": {
    "collapsed": true
   },
   "source": [
    "We can see from the output that the activity table has 252,204 rows, and its first few rows are"
   ]
  },
  {
   "cell_type": "code",
   "execution_count": 6,
   "metadata": {
    "collapsed": false
   },
   "outputs": [
    {
     "data": {
      "text/html": [
       "<table>\n",
       "<thead><tr><th scope=col>TransactionId</th><th scope=col>Timestamp</th><th scope=col>UserId</th><th scope=col>ItemId</th><th scope=col>Quantity</th><th scope=col>Value</th></tr></thead>\n",
       "<tbody>\n",
       "\t<tr><td>817747       </td><td>2000-11-01   </td><td>1704129      </td><td>4710730000000</td><td>1            </td><td> 46          </td></tr>\n",
       "\t<tr><td>818083       </td><td>2000-11-01   </td><td>1704129      </td><td>4710080000000</td><td>1            </td><td> 59          </td></tr>\n",
       "\t<tr><td>818107       </td><td>2000-11-01   </td><td>1704129      </td><td>4711300000000</td><td>1            </td><td> 35          </td></tr>\n",
       "\t<tr><td>818153       </td><td>2000-11-01   </td><td>1704129      </td><td>4714980000000</td><td>2            </td><td> 48          </td></tr>\n",
       "\t<tr><td>828300       </td><td>2000-11-03   </td><td>1704129      </td><td>4710060000000</td><td>1            </td><td>110          </td></tr>\n",
       "\t<tr><td>829091       </td><td>2000-11-03   </td><td>1704129      </td><td>4710580000000</td><td>2            </td><td> 26          </td></tr>\n",
       "</tbody>\n",
       "</table>\n"
      ],
      "text/latex": [
       "\\begin{tabular}{r|llllll}\n",
       " TransactionId & Timestamp & UserId & ItemId & Quantity & Value\\\\\n",
       "\\hline\n",
       "\t 817747        & 2000-11-01    & 1704129       & 4710730000000 & 1             &  46          \\\\\n",
       "\t 818083        & 2000-11-01    & 1704129       & 4710080000000 & 1             &  59          \\\\\n",
       "\t 818107        & 2000-11-01    & 1704129       & 4711300000000 & 1             &  35          \\\\\n",
       "\t 818153        & 2000-11-01    & 1704129       & 4714980000000 & 2             &  48          \\\\\n",
       "\t 828300        & 2000-11-03    & 1704129       & 4710060000000 & 1             & 110          \\\\\n",
       "\t 829091        & 2000-11-03    & 1704129       & 4710580000000 & 2             &  26          \\\\\n",
       "\\end{tabular}\n"
      ],
      "text/plain": [
       "  TransactionId Timestamp  UserId  ItemId        Quantity Value\n",
       "1 817747        2000-11-01 1704129 4710730000000 1         46  \n",
       "2 818083        2000-11-01 1704129 4710080000000 1         59  \n",
       "3 818107        2000-11-01 1704129 4711300000000 1         35  \n",
       "4 818153        2000-11-01 1704129 4714980000000 2         48  \n",
       "5 828300        2000-11-03 1704129 4710060000000 1        110  \n",
       "6 829091        2000-11-03 1704129 4710580000000 2         26  "
      ]
     },
     "metadata": {},
     "output_type": "display_data"
    }
   ],
   "source": [
    "head(dataActivity)"
   ]
  },
  {
   "cell_type": "markdown",
   "metadata": {},
   "source": [
    "### <a id=\"Label\">2.3. CREATE THE LABEL</a>\n",
    "\n",
    "For a customer, the label shows whether or not they are expected to churn. We define a churner as a customer who will have fewer than churnThrehold transactions in the next 21 days, the churn period. Since the label is a rxPrediction of the future, we can only use data known prior to the churn period to make the rxPrediction. Then we must first split dataActivity table into two parts: the data from the 21 days of the churn period, and the data from before the start of the churn period.\n",
    "\n",
    "We begin by getting the range of dates for which we have transaction data. The commands in the next cell get the smallest and largest dates in the dataTransactions table. Although these are dates, rxSummary returns them as date numbers that are then converted back into dates. The last command verifies that we have transactions that cover at least twice as many days as the duration of the churn period."
   ]
  },
  {
   "cell_type": "code",
   "execution_count": 7,
   "metadata": {
    "collapsed": false
   },
   "outputs": [
    {
     "name": "stdout",
     "output_type": "stream",
     "text": [
      "Rows Read: 252204, Total Rows Processed: 252204, Total Chunk Time: 0.068 seconds \n",
      "Computation time: 0.176 seconds.\n"
     ]
    }
   ],
   "source": [
    "#-----------------------------------------------------------------------\n",
    "# 3. Create the label.\n",
    "#-----------------------------------------------------------------------\n",
    "# The churn period is the next churnPeriod days. A customer has churned\n",
    "# if their activity drops below churnThreshold in the churn period. Then\n",
    "# the rxPrediction of churn is made using statistics about customer\n",
    "# activity from before the churn period.\n",
    "churnPeriod <- as.difftime(21, units = \"days\")\n",
    "churnThreshold <- 0\n",
    "\n",
    "# The date range of the activity data.\n",
    "activityRange <-\n",
    "    rxSummary( ~ Timestamp, dataActivity,\n",
    "              summaryStats = c(\"Max\", \"Min\"))$sDataFrame\n",
    "activityMin <- as.POSIXct(activityRange$Min, origin = \"1970-01-01\")\n",
    "activityMax <- as.POSIXct(activityRange$Max, origin = \"1970-01-01\")\n",
    "\n",
    "# Verify that enough data are available.\n",
    "if (activityMax - activityMin < 2 * churnPeriod) {\n",
    "    stop(\"The training data period should be at least two times longer than the\\n\",\n",
    "         \"churn period.\")\n",
    "}"
   ]
  },
  {
   "cell_type": "markdown",
   "metadata": {},
   "source": [
    "You can see the range of dates as follows:"
   ]
  },
  {
   "cell_type": "code",
   "execution_count": 8,
   "metadata": {
    "collapsed": false
   },
   "outputs": [
    {
     "data": {
      "text/plain": [
       "[1] \"2000-11-01 EST\" \"2001-02-28 EST\""
      ]
     },
     "metadata": {},
     "output_type": "display_data"
    }
   ],
   "source": [
    "c(activityMin, activityMax)"
   ]
  },
  {
   "cell_type": "markdown",
   "metadata": {},
   "source": [
    "Next, we compute the start date of the churn period, and use it to split off from dataActivity the transactions that happened before that date.\n",
    "\n",
    "We use the rxDataStep function to pull the prechurn period activity from the dataActivity data set into a new data set. Its transformObjects input stores the churnPeriodStart variable in a list for use by rxDataStep when it evaluates the expression in the rowSelection input."
   ]
  },
  {
   "cell_type": "code",
   "execution_count": 9,
   "metadata": {
    "collapsed": false
   },
   "outputs": [
    {
     "name": "stdout",
     "output_type": "stream",
     "text": [
      "Rows Read: 252204, Total Rows Processed: 252204, Total Chunk Time: 1.148 seconds \n"
     ]
    }
   ],
   "source": [
    "# The start of the churn period.\n",
    "churnPeriodStart <- activityMax - churnPeriod\n",
    "\n",
    "# The activity data from the before the churn period.\n",
    "prechurnActivity <-\n",
    "    rxDataStep(dataActivity,\n",
    "               rowSelection = Timestamp <= churnPeriodStart,\n",
    "               transformObjects = list(churnPeriodStart = churnPeriodStart),\n",
    "               outFile = tempfile(fileext = \".xdf\"))"
   ]
  },
  {
   "cell_type": "markdown",
   "metadata": {},
   "source": [
    "We see that the new prechurnActivity table has 46,686 fewer rows than the original dataActivity table:"
   ]
  },
  {
   "cell_type": "code",
   "execution_count": 10,
   "metadata": {
    "collapsed": false
   },
   "outputs": [
    {
     "data": {
      "text/html": [
       "46686"
      ],
      "text/latex": [
       "46686"
      ],
      "text/markdown": [
       "46686"
      ],
      "text/plain": [
       "[1] 46686"
      ]
     },
     "metadata": {},
     "output_type": "display_data"
    }
   ],
   "source": [
    "nrow(dataActivity) - nrow(prechurnActivity)"
   ]
  },
  {
   "cell_type": "markdown",
   "metadata": {},
   "source": [
    "Now, we compute the total number of transactions for each customer and the number of transactions each customer had in prechurn period. The difference between these two quantities will be the number of transactions in the churn period for each customer.\n",
    "\n",
    "We use the rxCube function to compute tables of counts of each UserId in first the dataActivity table, and then in the prechurnActivity table. We then merge those two tables by UserId so the quantities are side-by-side in one table."
   ]
  },
  {
   "cell_type": "code",
   "execution_count": 11,
   "metadata": {
    "collapsed": false
   },
   "outputs": [
    {
     "name": "stdout",
     "output_type": "stream",
     "text": [
      "Rows Read: 252204, Total Rows Processed: 252204, Total Chunk Time: 0.087 seconds \n",
      "Computation time: 0.198 seconds.\n",
      "Rows Read: 205518, Total Rows Processed: 205518, Total Chunk Time: 0.081 seconds \n",
      "Computation time: 0.185 seconds.\n",
      "Number of rows written to file: 10000, Variable(s): UserId, Counts, Total number of rows in file: 10000\n",
      "Time to sort data file: 0.130 seconds\n",
      "Number of rows written to file: 10000, Variable(s): UserId, Counts, Total number of rows in file: 10000\n",
      "Time to sort data file: 0.127 seconds\n",
      "Time to merge data file: 0.177 seconds\n"
     ]
    }
   ],
   "source": [
    "# The total activity per customer is the number of rows per UserId\n",
    "# in the complete data activity.\n",
    "totalActivityCounts <-\n",
    "    rxCube( ~ UserId, dataActivity,\n",
    "           outFile = tempfile(fileext = \".xdf\"),\n",
    "           rowsPerBlock = rowsPerBlock)\n",
    "\n",
    "# The prechurn period activity per customer is the number of rows per\n",
    "# UserId in the prechurn activity.\n",
    "prechurnActivityCounts <-\n",
    "    rxCube( ~ UserId, prechurnActivity,\n",
    "           outFile = tempfile(fileext = \".xdf\"),\n",
    "           rowsPerBlock = rowsPerBlock)\n",
    "\n",
    "# Merge these data to line the numbers up.\n",
    "activityCounts <-\n",
    "    rxMerge(totalActivityCounts, prechurnActivityCounts,\n",
    "            matchVars = \"UserId\",\n",
    "            newVarNames1 = c(Counts = \"totalCounts\"),\n",
    "            newVarNames2 = c(Counts = \"prechurnCounts\"),\n",
    "            outFile = tempfile(fileext = \".xdf\"),\n",
    "            rowsPerOutputBlock = rowsPerBlock)"
   ]
  },
  {
   "cell_type": "markdown",
   "metadata": {},
   "source": [
    "We can see from the output from the last command that the number of rows in activityCounts is 10,000, which is the number of customers. And if we look at the top six rows of the activityCounts table, we see differences between customer's total activity and their activity in the prechurn period."
   ]
  },
  {
   "cell_type": "code",
   "execution_count": 12,
   "metadata": {
    "collapsed": false
   },
   "outputs": [
    {
     "data": {
      "text/html": [
       "<table>\n",
       "<thead><tr><th scope=col>UserId</th><th scope=col>totalCounts</th><th scope=col>prechurnCounts</th></tr></thead>\n",
       "<tbody>\n",
       "\t<tr><td>2105345</td><td> 8     </td><td> 8     </td></tr>\n",
       "\t<tr><td>2085920</td><td> 4     </td><td> 1     </td></tr>\n",
       "\t<tr><td>1976717</td><td>39     </td><td>39     </td></tr>\n",
       "\t<tr><td>768535 </td><td>14     </td><td>11     </td></tr>\n",
       "\t<tr><td>1895117</td><td>35     </td><td>35     </td></tr>\n",
       "\t<tr><td>1587807</td><td>30     </td><td>20     </td></tr>\n",
       "</tbody>\n",
       "</table>\n"
      ],
      "text/latex": [
       "\\begin{tabular}{r|lll}\n",
       " UserId & totalCounts & prechurnCounts\\\\\n",
       "\\hline\n",
       "\t 2105345 &  8      &  8     \\\\\n",
       "\t 2085920 &  4      &  1     \\\\\n",
       "\t 1976717 & 39      & 39     \\\\\n",
       "\t 768535  & 14      & 11     \\\\\n",
       "\t 1895117 & 35      & 35     \\\\\n",
       "\t 1587807 & 30      & 20     \\\\\n",
       "\\end{tabular}\n"
      ],
      "text/plain": [
       "  UserId  totalCounts prechurnCounts\n",
       "1 2105345  8           8            \n",
       "2 2085920  4           1            \n",
       "3 1976717 39          39            \n",
       "4 768535  14          11            \n",
       "5 1895117 35          35            \n",
       "6 1587807 30          20            "
      ]
     },
     "metadata": {},
     "output_type": "display_data"
    }
   ],
   "source": [
    "head(activityCounts)"
   ]
  },
  {
   "cell_type": "markdown",
   "metadata": {},
   "source": [
    "Finally, we compute the label by checking that the difference between the total and prechurn transactions is at most the churnThreshold.\n",
    "\n",
    "In this case, the rxDataStep command lets us insert the Label variable into the dataset; here, the transformObjects input stores the churnThreshold variable in a list for use by rxDataStep when it evaluates the expression in the transforms input."
   ]
  },
  {
   "cell_type": "code",
   "execution_count": 13,
   "metadata": {
    "collapsed": false
   },
   "outputs": [
    {
     "name": "stdout",
     "output_type": "stream",
     "text": [
      "Rows Read: 10000, Total Rows Processed: 10000, Total Chunk Time: 0.038 seconds \n"
     ]
    }
   ],
   "source": [
    "# Compute whether a customer is a churner.  A customer has churned if their\n",
    "# activity drops below churnThreshold in the churn period.\n",
    "dataLabel <-\n",
    "    rxDataStep(activityCounts,\n",
    "               transforms = list(Label =\n",
    "                                    totalCounts - prechurnCounts <=\n",
    "                                        churnThreshold),\n",
    "               transformObjects = list(churnThreshold = churnThreshold),\n",
    "               outFile = tempfile(fileext = \".xdf\"))"
   ]
  },
  {
   "cell_type": "markdown",
   "metadata": {},
   "source": [
    "We can look the the labels assigned to the first six customers in the dataLabel table to see that they match our expectations:"
   ]
  },
  {
   "cell_type": "code",
   "execution_count": 14,
   "metadata": {
    "collapsed": false
   },
   "outputs": [
    {
     "data": {
      "text/html": [
       "<table>\n",
       "<thead><tr><th scope=col>UserId</th><th scope=col>totalCounts</th><th scope=col>prechurnCounts</th><th scope=col>Label</th></tr></thead>\n",
       "<tbody>\n",
       "\t<tr><td>2105345</td><td> 8     </td><td> 8     </td><td> TRUE  </td></tr>\n",
       "\t<tr><td>2085920</td><td> 4     </td><td> 1     </td><td>FALSE  </td></tr>\n",
       "\t<tr><td>1976717</td><td>39     </td><td>39     </td><td> TRUE  </td></tr>\n",
       "\t<tr><td>768535 </td><td>14     </td><td>11     </td><td>FALSE  </td></tr>\n",
       "\t<tr><td>1895117</td><td>35     </td><td>35     </td><td> TRUE  </td></tr>\n",
       "\t<tr><td>1587807</td><td>30     </td><td>20     </td><td>FALSE  </td></tr>\n",
       "</tbody>\n",
       "</table>\n"
      ],
      "text/latex": [
       "\\begin{tabular}{r|llll}\n",
       " UserId & totalCounts & prechurnCounts & Label\\\\\n",
       "\\hline\n",
       "\t 2105345 &  8      &  8      &  TRUE  \\\\\n",
       "\t 2085920 &  4      &  1      & FALSE  \\\\\n",
       "\t 1976717 & 39      & 39      &  TRUE  \\\\\n",
       "\t 768535  & 14      & 11      & FALSE  \\\\\n",
       "\t 1895117 & 35      & 35      &  TRUE  \\\\\n",
       "\t 1587807 & 30      & 20      & FALSE  \\\\\n",
       "\\end{tabular}\n"
      ],
      "text/plain": [
       "  UserId  totalCounts prechurnCounts Label\n",
       "1 2105345  8           8              TRUE\n",
       "2 2085920  4           1             FALSE\n",
       "3 1976717 39          39              TRUE\n",
       "4 768535  14          11             FALSE\n",
       "5 1895117 35          35              TRUE\n",
       "6 1587807 30          20             FALSE"
      ]
     },
     "metadata": {},
     "output_type": "display_data"
    }
   ],
   "source": [
    "head(dataLabel)"
   ]
  },
  {
   "cell_type": "markdown",
   "metadata": {},
   "source": [
    "We can also get a numerical summary of the Label variable:"
   ]
  },
  {
   "cell_type": "code",
   "execution_count": 15,
   "metadata": {
    "collapsed": false
   },
   "outputs": [
    {
     "name": "stdout",
     "output_type": "stream",
     "text": [
      "Rows Read: 10000, Total Rows Processed: 10000, Total Chunk Time: 0.003 seconds \n",
      "Computation time: 0.007 seconds.\n"
     ]
    },
    {
     "data": {
      "text/plain": [
       "Call:\n",
       "rxSummary(formula = ~Label, data = dataLabel)\n",
       "\n",
       "Summary Statistics Results for: ~Label\n",
       "Data: dataLabel (RxXdfData Data Source)\n",
       "File name:\n",
       "    C:\\Users\\mabou\\AppData\\Local\\Temp\\RtmpKqkYjG\\file82c267e2211.xdf\n",
       "Number of valid observations: 10000 \n",
       " \n",
       " Name  Mean   StdDev    Min Max ValidObs MissingObs\n",
       " Label 0.5508 0.4974375 0   1   10000    0         "
      ]
     },
     "metadata": {},
     "output_type": "display_data"
    }
   ],
   "source": [
    "rxSummary(~ Label, dataLabel)"
   ]
  },
  {
   "cell_type": "markdown",
   "metadata": {},
   "source": [
    "Because \"Label\" is a logical value, its mean is the proportion of rows where \"Label\" is TRUE, so 55.08% of the customers have been identified as churners. This shows the data are reasonably balanced between the churners and non-churners. Note that we could have asked for a summary of all columns in the dataLabel table with the shorter command:"
   ]
  },
  {
   "cell_type": "code",
   "execution_count": 16,
   "metadata": {
    "collapsed": true
   },
   "outputs": [],
   "source": [
    "# rxSummary(~ ., dataLabel) Do not run this command."
   ]
  },
  {
   "cell_type": "markdown",
   "metadata": {},
   "source": [
    "but the result would have needlessly taken tens of pages because one of the columns is the \"UserId\", a factor that is unique for each of the 10,000 rows."
   ]
  },
  {
   "cell_type": "markdown",
   "metadata": {},
   "source": [
    "### <a id=\"Features\">2.4. CREATE THE FEATURES</a>\n",
    "\n",
    "We use the prechurnActivity table to compute the activity-based features that will be used to rxPredict churning. There are three kinds of data: dates, numbers, and factors, each of which produces its own kind of features for each customer.\n",
    "\n",
    "The dates are used to compute the mean number of days between a customer's transactions, and the number of days from the last of the customer's transactions to the start of the churn period. Because the computation of the number of days between transactions cannot be done in a simple way using Xdfs, we first pull the dates into a data frame, do the computation, and import the results in an Xdf."
   ]
  },
  {
   "cell_type": "code",
   "execution_count": null,
   "metadata": {
    "collapsed": false
   },
   "outputs": [
    {
     "name": "stdout",
     "output_type": "stream",
     "text": [
      "Rows Read: 205518, Total Rows Processed: 205518, Total Chunk Time: 0.085 seconds \n"
     ]
    }
   ],
   "source": [
    "#-----------------------------------------------------------------------\n",
    "# 4. Create the features.\n",
    "#-----------------------------------------------------------------------\n",
    "# Create features from the activity variables Timestamp, Quantity,\n",
    "# Value, TransactionId, and ItemId. NOTE: The TransactionId feature will\n",
    "# be obtained from the prechurnActivityCounts table.\n",
    "#-----------------------------------------------------------------------\n",
    "# Timestamp features are the per-customer recency and mean days between\n",
    "# transactions. Recency is the number of days between the first day of\n",
    "# the churn period and the last transaction.\n",
    "TimestampDf <-\n",
    "    rxDataStep(prechurnActivity, varsToKeep = c(\"UserId\", \"Timestamp\"),\n",
    "               maxRowsByCols = 2 * nrow(prechurnActivity))\n",
    "\n",
    "TimestampFeaturesDf <-\n",
    "    do.call(rbind,\n",
    "            lapply(split(TimestampDf,\n",
    "                         TimestampDf$UserId, drop = TRUE),\n",
    "                   function(x) {\n",
    "                       data.frame(UserId = x$UserId[1],\n",
    "                                  Recency = churnPeriodStart -\n",
    "                                               max(x$Timestamp),\n",
    "                                  MeanDaysBetweenActivity =\n",
    "                                   if (nrow(x) == 1) {\n",
    "                                       0\n",
    "                                   } else {\n",
    "                                       mean(as.difftime(diff(sort(x$Timestamp)),\n",
    "                                                        units = \"days\"))\n",
    "                                   })\n",
    "                   }))\n",
    "\n",
    "TimestampFeatures <-\n",
    "    rxImport(TimestampFeaturesDf,\n",
    "             outFile = tempfile(fileext = \".xdf\"),\n",
    "             rowsPerRead = rowsPerBlock)"
   ]
  },
  {
   "cell_type": "markdown",
   "metadata": {},
   "source": [
    "We can see from the output from the last command that there are 9,159 rows in the new table of time-based features, which is below the 10,000 rows of the dataLabel column. We can get a summary of the values in the table:"
   ]
  },
  {
   "cell_type": "code",
   "execution_count": 18,
   "metadata": {
    "collapsed": false
   },
   "outputs": [
    {
     "name": "stdout",
     "output_type": "stream",
     "text": [
      "Rows Read: 9159, Total Rows Processed: 9159, Total Chunk Time: 0.008 seconds \n",
      "Computation time: 0.016 seconds.\n"
     ]
    },
    {
     "data": {
      "text/plain": [
       "Call:\n",
       "rxSummary(formula = ~Recency + MeanDaysBetweenActivity, data = TimestampFeatures)\n",
       "\n",
       "Summary Statistics Results for: ~Recency + MeanDaysBetweenActivity\n",
       "Data: TimestampFeatures (RxXdfData Data Source)\n",
       "File name:\n",
       "    C:\\Users\\mabou\\AppData\\Local\\Temp\\RtmpARo8MX\\file415c12c14a61.xdf\n",
       "Number of valid observations: 9159 \n",
       " \n",
       " Name                    Mean         StdDev       Min Max     ValidObs\n",
       " Recency                     32.47887     27.96735 0        97 9159    \n",
       " MeanDaysBetweenActivity 161052.14456 279623.38217 0   3153600 9159    \n",
       " MissingObs\n",
       " 0         \n",
       " 0         "
      ]
     },
     "metadata": {},
     "output_type": "display_data"
    }
   ],
   "source": [
    "rxSummary(~ Recency + MeanDaysBetweenActivity, TimestampFeatures)"
   ]
  },
  {
   "cell_type": "markdown",
   "metadata": {},
   "source": [
    "We can also plot MeanDaysBetweenActivity against Recency:"
   ]
  },
  {
   "cell_type": "code",
   "execution_count": 19,
   "metadata": {
    "collapsed": false,
    "scrolled": false
   },
   "outputs": [
    {
     "name": "stdout",
     "output_type": "stream",
     "text": [
      "Rows Read: 9159, Total Rows Processed: 9159, Total Chunk Time: 0.014 seconds \n"
     ]
    },
    {
     "data": {
      "image/png": "[encoded data removed]",
      "text/plain": [
       "plot without title"
      ]
     },
     "metadata": {},
     "output_type": "display_data"
    }
   ],
   "source": [
    "rxLinePlot(MeanDaysBetweenActivity ~ Recency, TimestampFeatures, type = \"p\", title = \"Timestamp Features\")"
   ]
  },
  {
   "cell_type": "markdown",
   "metadata": {},
   "source": [
    "The results shown in the figure let us see that as Recency increases, the range of MeanDaysBetweenActivity decreases, which is reasonable.\n",
    "\n",
    "We now derive features from the numerical data. These are Quantity and Value, and we use them to compute totals and standard deviations. Because the standard deviation will be undefined for customers with only one transaction, we will then replace the missing values in the data with zeros.\n",
    "\n",
    "We first create the Quantity-based features:"
   ]
  },
  {
   "cell_type": "code",
   "execution_count": 20,
   "metadata": {
    "collapsed": false
   },
   "outputs": [
    {
     "name": "stdout",
     "output_type": "stream",
     "text": [
      "Rows Read: 205518, Total Rows Processed: 205518, Total Chunk Time: 0.149 seconds \n",
      "Computation time: 0.378 seconds.\n",
      "Rows Read: 10000, Total Rows Processed: 10000, Total Chunk Time: 0.080 seconds \n"
     ]
    }
   ],
   "source": [
    "# Quantity features are the per-customer total and standard deviation.\n",
    "QuantityFeatures <-\n",
    "    rxSummary(Quantity ~ UserId, prechurnActivity,\n",
    "              summaryStats = c(\"Sum\", \"StdDev\"),\n",
    "              byGroupOutFile = tempfile(fileext = \".xdf\"),\n",
    "              rowsPerBlock = rowsPerBlock)$categorical[[1]]\n",
    "\n",
    "# Replace missing standard deviations with 0s.\n",
    "QuantityFeatures <-\n",
    "    rxDataStep(QuantityFeatures,\n",
    "               transforms = list(Quantity_StdDev =\n",
    "                                    ifelse(is.na(Quantity_StdDev),\n",
    "                                           0, Quantity_StdDev)),\n",
    "               outFile = tempfile(fileext = \".xdf\"))"
   ]
  },
  {
   "cell_type": "markdown",
   "metadata": {},
   "source": [
    "Then, we create the Value-based features:"
   ]
  },
  {
   "cell_type": "code",
   "execution_count": 21,
   "metadata": {
    "collapsed": false
   },
   "outputs": [
    {
     "name": "stdout",
     "output_type": "stream",
     "text": [
      "Rows Read: 205518, Total Rows Processed: 205518, Total Chunk Time: 0.116 seconds \n",
      "Computation time: 0.306 seconds.\n",
      "Rows Read: 10000, Total Rows Processed: 10000, Total Chunk Time: 0.088 seconds \n"
     ]
    }
   ],
   "source": [
    "# Value features are the per-customer total and standard deviation.\n",
    "ValueFeatures <-\n",
    "    rxSummary(Value ~ UserId, prechurnActivity,\n",
    "              summaryStats = c(\"Sum\", \"StdDev\"),\n",
    "              byGroupOutFile = tempfile(fileext = \".xdf\"),\n",
    "              rowsPerBlock = rowsPerBlock)$categorical[[1]]\n",
    "\n",
    "# Replace missing standard deviations with 0s.\n",
    "ValueFeatures <-\n",
    "    rxDataStep(ValueFeatures,\n",
    "               transforms = list(Value_StdDev =\n",
    "                                    ifelse(is.na(Value_StdDev),\n",
    "                                           0, Value_StdDev)),\n",
    "               outFile = tempfile(fileext = \".xdf\"))"
   ]
  },
  {
   "cell_type": "markdown",
   "metadata": {},
   "source": [
    "We peek at the Quantity-based features:"
   ]
  },
  {
   "cell_type": "code",
   "execution_count": 22,
   "metadata": {
    "collapsed": false
   },
   "outputs": [
    {
     "data": {
      "text/html": [
       "<table>\n",
       "<thead><tr><th></th><th scope=col>UserId</th><th scope=col>Quantity_StdDev</th><th scope=col>Quantity_Sum</th></tr></thead>\n",
       "<tbody>\n",
       "\t<tr><th scope=row>1</th><td>2105345          </td><td>0.353553390593274</td><td>9                </td></tr>\n",
       "\t<tr><th scope=row>2</th><td>2085920</td><td>0      </td><td>5      </td></tr>\n",
       "\t<tr><th scope=row>3</th><td>1976717         </td><td>1.96734474460618</td><td>72              </td></tr>\n",
       "\t<tr><th scope=row>4</th><td>768535           </td><td>0.924416277737175</td><td>15               </td></tr>\n",
       "\t<tr><th scope=row>5</th><td>1895117         </td><td>0.45281565433046</td><td>41              </td></tr>\n",
       "\t<tr><th scope=row>6</th><td>1587807         </td><td>2.51521684740574</td><td>54              </td></tr>\n",
       "</tbody>\n",
       "</table>\n"
      ],
      "text/latex": [
       "\\begin{tabular}{r|lll}\n",
       "  & UserId & Quantity\\_StdDev & Quantity\\_Sum\\\\\n",
       "\\hline\n",
       "\t1 & 2105345           & 0.353553390593274 & 9                \\\\\n",
       "\t2 & 2085920 & 0       & 5      \\\\\n",
       "\t3 & 1976717          & 1.96734474460618 & 72              \\\\\n",
       "\t4 & 768535            & 0.924416277737175 & 15               \\\\\n",
       "\t5 & 1895117          & 0.45281565433046 & 41              \\\\\n",
       "\t6 & 1587807          & 2.51521684740574 & 54              \\\\\n",
       "\\end{tabular}\n"
      ],
      "text/plain": [
       "   UserId Quantity_StdDev Quantity_Sum\n",
       "1 2105345       0.3535534            9\n",
       "2 2085920       0.0000000            5\n",
       "3 1976717       1.9673447           72\n",
       "4  768535       0.9244163           15\n",
       "5 1895117       0.4528157           41\n",
       "6 1587807       2.5152168           54"
      ]
     },
     "metadata": {},
     "output_type": "display_data"
    }
   ],
   "source": [
    "head(QuantityFeatures)"
   ]
  },
  {
   "cell_type": "markdown",
   "metadata": {},
   "source": [
    "And we create features from the factor data TransactionId and ItemId. We use them to compute the number of unique transactions per customer, and the number of different items they purchased. Because the prechurnActivityCounts table already counts the number of unique transactions per customer, we won't need to compute that feature again. For the feature obtained from ItemId, we first get the unique the UserId and ItemId pairs, and then compute the number of ItemIds per UserId."
   ]
  },
  {
   "cell_type": "code",
   "execution_count": 23,
   "metadata": {
    "collapsed": false
   },
   "outputs": [
    {
     "name": "stdout",
     "output_type": "stream",
     "text": [
      "Number of rows written to file: 144597, Variable(s): UserId, ItemId, Total number of rows in file: 144597\n",
      "Time to sort data file: 0.765 seconds\n",
      "Rows Read: 144597, Total Rows Processed: 144597, Total Chunk Time: 0.046 seconds \n",
      "Computation time: 0.069 seconds.\n"
     ]
    }
   ],
   "source": [
    "# TransactionId features are the per-customer number of unique\n",
    "# transactions. These data are in the prechurnActivityCounts table that\n",
    "# was previously created.\n",
    "# ItemId features are the per-customer number of unique items.\n",
    "# First get the unique ItemId-UserId pairs.\n",
    "ItemIdUserIdPairs <-\n",
    "    rxSort(prechurnActivity, sortByVars = c(\"UserId\", \"ItemId\"),\n",
    "           removeDupKeys = TRUE, varsToKeep = c(\"UserId\", \"ItemId\"),\n",
    "           outFile = tempfile(fileext = \".xdf\"))\n",
    "\n",
    "# Then count the number of rows per UserId.\n",
    "ItemIdFeature <-\n",
    "    rxCube( ~ UserId, ItemIdUserIdPairs,\n",
    "           outFile = tempfile(fileext = \".xdf\"),\n",
    "           rowsPerBlock = rowsPerBlock)"
   ]
  },
  {
   "cell_type": "markdown",
   "metadata": {},
   "source": [
    "Next, we merge these three kinds of activity-based features into one table."
   ]
  },
  {
   "cell_type": "code",
   "execution_count": 24,
   "metadata": {
    "collapsed": false
   },
   "outputs": [
    {
     "name": "stdout",
     "output_type": "stream",
     "text": [
      "Number of rows written to file: 9159, Variable(s): UserId, Recency, MeanDaysBetweenActivity, Total number of rows in file: 9159\n",
      "Time to sort data file: 0.203 seconds\n",
      "Number of rows written to file: 10000, Variable(s): UserId, Quantity_StdDev, Quantity_Sum, Total number of rows in file: 10000\n",
      "Time to sort data file: 0.158 seconds\n",
      "Time to merge data file: 0.237 seconds\n",
      "Number of rows written to file: 9159, Variable(s): UserId, Recency, MeanDaysBetweenActivity, Quantity_StdDev, Quantity_Sum, Total number of rows in file: 9159\n",
      "Time to sort data file: 0.160 seconds\n",
      "Number of rows written to file: 10000, Variable(s): UserId, Value_StdDev, Value_Sum, Total number of rows in file: 10000\n",
      "Time to sort data file: 0.160 seconds\n",
      "Time to merge data file: 0.258 seconds\n",
      "Number of rows written to file: 9159, Number of columns: 7, Total number of rows in file: 9159\n",
      "Time to sort data file: 0.169 seconds\n",
      "Number of rows written to file: 10000, Variable(s): UserId, Counts, Total number of rows in file: 10000\n",
      "Time to sort data file: 0.159 seconds\n",
      "Time to merge data file: 0.644 seconds\n",
      "Number of rows written to file: 9159, Number of columns: 8, Total number of rows in file: 9159\n",
      "Time to sort data file: 0.293 seconds\n",
      "Number of rows written to file: 10000, Variable(s): UserId, Counts, Total number of rows in file: 10000\n",
      "Time to sort data file: 0.210 seconds\n",
      "Time to merge data file: 0.357 seconds\n"
     ]
    }
   ],
   "source": [
    "#-----------------------------------------------------------------------\n",
    "# Merge the feature data by UserId\n",
    "dataFeatures <-\n",
    "    rxMerge(TimestampFeatures, QuantityFeatures, matchVars = \"UserId\",\n",
    "            outFile = tempfile(fileext = \".xdf\"),\n",
    "            rowsPerOutputBlock = rowsPerBlock)\n",
    "\n",
    "dataFeatures <-\n",
    "    rxMerge(dataFeatures, ValueFeatures, matchVars = \"UserId\",\n",
    "            outFile = tempfile(fileext = \".xdf\"),\n",
    "            rowsPerOutputBlock = rowsPerBlock)\n",
    "\n",
    "dataFeatures <-\n",
    "    rxMerge(dataFeatures, prechurnActivityCounts, matchVars = \"UserId\",\n",
    "            newVarNames2 = c(Counts = \"TransactionId_Counts\"),\n",
    "            outFile = tempfile(fileext = \".xdf\"),\n",
    "            rowsPerOutputBlock = rowsPerBlock)\n",
    "\n",
    "dataFeatures <-\n",
    "    rxMerge(dataFeatures, ItemIdFeature, matchVars = \"UserId\",\n",
    "            newVarNames2 = c(Counts = \"ItemId_Counts\"),\n",
    "            outFile = tempfile(fileext = \".xdf\"),\n",
    "            rowsPerOutputBlock = rowsPerBlock)"
   ]
  },
  {
   "cell_type": "markdown",
   "metadata": {},
   "source": [
    "As final features, we compute ratios of the sum features computed from Quantity and Value and the count features from TransactionId and ItemId."
   ]
  },
  {
   "cell_type": "code",
   "execution_count": 25,
   "metadata": {
    "collapsed": false
   },
   "outputs": [
    {
     "name": "stdout",
     "output_type": "stream",
     "text": [
      "Rows Read: 9159, Total Rows Processed: 9159, Total Chunk Time: 0.094 seconds \n"
     ]
    }
   ],
   "source": [
    "# Compute feature ratios.\n",
    "dataFeatures <-\n",
    "    rxDataStep(dataFeatures,\n",
    "               transforms =\n",
    "                   list(Quantity_per_TransactionId =\n",
    "                            Quantity_Sum / TransactionId_Counts,\n",
    "                        Quantity_per_ItemId =\n",
    "                            Quantity_Sum / ItemId_Counts,\n",
    "                        Value_per_TransactionId =\n",
    "                            Value_Sum / TransactionId_Counts,\n",
    "                        Value_per_ItemId =\n",
    "                            Value_Sum / ItemId_Counts),\n",
    "               outFile = tempfile(fileext = \".xdf\"),\n",
    "               rowsPerRead = rowsPerBlock)"
   ]
  },
  {
   "cell_type": "markdown",
   "metadata": {},
   "source": [
    "From the above output, we see that the data features table has 9,159 rows. We can now look at the values of these features for the first six customers. Note that the dataFeatures table has 13 column, so the output will likely overflow its window."
   ]
  },
  {
   "cell_type": "code",
   "execution_count": 26,
   "metadata": {
    "collapsed": false
   },
   "outputs": [
    {
     "data": {
      "text/html": [
       "<table>\n",
       "<thead><tr><th></th><th scope=col>UserId</th><th scope=col>Recency</th><th scope=col>MeanDaysBetweenActivity</th><th scope=col>Quantity_StdDev</th><th scope=col>Quantity_Sum</th><th scope=col>Value_StdDev</th><th scope=col>Value_Sum</th><th scope=col>TransactionId_Counts</th><th scope=col>ItemId_Counts</th><th scope=col>Quantity_per_TransactionId</th><th scope=col>Quantity_per_ItemId</th><th scope=col>Value_per_TransactionId</th><th scope=col>Value_per_ItemId</th></tr></thead>\n",
       "<tbody>\n",
       "\t<tr><th scope=row>1</th><td>2105345          </td><td>38               </td><td>0                </td><td>0.353553390593274</td><td>9                </td><td>77.2212729757805 </td><td>773              </td><td>8                </td><td>8                </td><td>1.125            </td><td>1.125            </td><td>96.625           </td><td>96.625           </td></tr>\n",
       "\t<tr><th scope=row>2</th><td>2085920</td><td>84     </td><td>0      </td><td>0      </td><td>5      </td><td>0      </td><td>400    </td><td>1      </td><td>1      </td><td>5      </td><td>5      </td><td>400    </td><td>400    </td></tr>\n",
       "\t<tr><th scope=row>3</th><td>1976717         </td><td>16              </td><td>29557.8947368421</td><td>1.96734474460618</td><td>72              </td><td>114.518784296792</td><td>4939            </td><td>39              </td><td>30              </td><td>1.84615384615385</td><td>2.4             </td><td>126.641025641026</td><td>164.633333333333</td></tr>\n",
       "\t<tr><th scope=row>4</th><td>768535           </td><td>24               </td><td>475200           </td><td>0.924416277737175</td><td>15               </td><td>143.784118480703 </td><td>1754             </td><td>11               </td><td>10               </td><td>1.36363636363636 </td><td>1.5              </td><td>159.454545454545 </td><td>175.4            </td></tr>\n",
       "\t<tr><th scope=row>5</th><td>1895117         </td><td>2               </td><td>129600          </td><td>0.45281565433046</td><td>41              </td><td>48.8186147166954</td><td>2222            </td><td>35              </td><td>28              </td><td>1.17142857142857</td><td>1.46428571428571</td><td>63.4857142857143</td><td>79.3571428571429</td></tr>\n",
       "\t<tr><th scope=row>6</th><td>1587807         </td><td>15              </td><td>163705.263157895</td><td>2.51521684740574</td><td>54              </td><td>75.0587664503796</td><td>2123            </td><td>20              </td><td>18              </td><td>2.7             </td><td>3               </td><td>106.15          </td><td>117.944444444444</td></tr>\n",
       "</tbody>\n",
       "</table>\n"
      ],
      "text/latex": [
       "\\begin{tabular}{r|lllllllllllll}\n",
       "  & UserId & Recency & MeanDaysBetweenActivity & Quantity\\_StdDev & Quantity\\_Sum & Value\\_StdDev & Value\\_Sum & TransactionId\\_Counts & ItemId\\_Counts & Quantity\\_per\\_TransactionId & Quantity\\_per\\_ItemId & Value\\_per\\_TransactionId & Value\\_per\\_ItemId\\\\\n",
       "\\hline\n",
       "\t1 & 2105345           & 38                & 0                 & 0.353553390593274 & 9                 & 77.2212729757805  & 773               & 8                 & 8                 & 1.125             & 1.125             & 96.625            & 96.625           \\\\\n",
       "\t2 & 2085920 & 84      & 0       & 0       & 5       & 0       & 400     & 1       & 1       & 5       & 5       & 400     & 400    \\\\\n",
       "\t3 & 1976717          & 16               & 29557.8947368421 & 1.96734474460618 & 72               & 114.518784296792 & 4939             & 39               & 30               & 1.84615384615385 & 2.4              & 126.641025641026 & 164.633333333333\\\\\n",
       "\t4 & 768535            & 24                & 475200            & 0.924416277737175 & 15                & 143.784118480703  & 1754              & 11                & 10                & 1.36363636363636  & 1.5               & 159.454545454545  & 175.4            \\\\\n",
       "\t5 & 1895117          & 2                & 129600           & 0.45281565433046 & 41               & 48.8186147166954 & 2222             & 35               & 28               & 1.17142857142857 & 1.46428571428571 & 63.4857142857143 & 79.3571428571429\\\\\n",
       "\t6 & 1587807          & 15               & 163705.263157895 & 2.51521684740574 & 54               & 75.0587664503796 & 2123             & 20               & 18               & 2.7              & 3                & 106.15           & 117.944444444444\\\\\n",
       "\\end{tabular}\n"
      ],
      "text/plain": [
       "   UserId Recency MeanDaysBetweenActivity Quantity_StdDev Quantity_Sum\n",
       "1 2105345      38                    0.00       0.3535534            9\n",
       "2 2085920      84                    0.00       0.0000000            5\n",
       "3 1976717      16                29557.89       1.9673447           72\n",
       "4  768535      24               475200.00       0.9244163           15\n",
       "5 1895117       2               129600.00       0.4528157           41\n",
       "6 1587807      15               163705.26       2.5152168           54\n",
       "  Value_StdDev Value_Sum TransactionId_Counts ItemId_Counts\n",
       "1     77.22127       773                    8             8\n",
       "2      0.00000       400                    1             1\n",
       "3    114.51878      4939                   39            30\n",
       "4    143.78412      1754                   11            10\n",
       "5     48.81861      2222                   35            28\n",
       "6     75.05877      2123                   20            18\n",
       "  Quantity_per_TransactionId Quantity_per_ItemId Value_per_TransactionId\n",
       "1                   1.125000            1.125000                96.62500\n",
       "2                   5.000000            5.000000               400.00000\n",
       "3                   1.846154            2.400000               126.64103\n",
       "4                   1.363636            1.500000               159.45455\n",
       "5                   1.171429            1.464286                63.48571\n",
       "6                   2.700000            3.000000               106.15000\n",
       "  Value_per_ItemId\n",
       "1         96.62500\n",
       "2        400.00000\n",
       "3        164.63333\n",
       "4        175.40000\n",
       "5         79.35714\n",
       "6        117.94444"
      ]
     },
     "metadata": {},
     "output_type": "display_data"
    }
   ],
   "source": [
    "head(dataFeatures)"
   ]
  },
  {
   "cell_type": "markdown",
   "metadata": {},
   "source": [
    "### <a id=\"Assemble\">2.5. ASSEMBLE THE DATASET</a>\n",
    "\n",
    "We merge the dataCustomers, dataLabel, and dataFeatures tables by UserId to create the dataset that we will use for training and testing."
   ]
  },
  {
   "cell_type": "code",
   "execution_count": 27,
   "metadata": {
    "collapsed": false
   },
   "outputs": [
    {
     "name": "stdout",
     "output_type": "stream",
     "text": [
      "Number of rows written to file: 10000, Variable(s): UserId, Age, Address, Total number of rows in file: 10000\n",
      "Time to sort data file: 0.194 seconds\n",
      "Number of rows written to file: 9159, Number of columns: 13, Total number of rows in file: 9159\n",
      "Time to sort data file: 0.236 seconds\n",
      "Time to merge data file: 0.448 seconds\n",
      "Number of rows written to file: 9159, Number of columns: 15, Total number of rows in file: 9159\n",
      "Time to sort data file: 0.263 seconds\n",
      "Number of rows written to file: 10000, Variable(s): UserId, totalCounts, prechurnCounts, Label, Total number of rows in file: 10000\n",
      "Time to sort data file: 0.171 seconds\n",
      "Time to merge data file: 0.618 seconds\n"
     ]
    }
   ],
   "source": [
    "#-----------------------------------------------------------------------\n",
    "# 5. Assemble the dataset.\n",
    "#-----------------------------------------------------------------------\n",
    "# Merge the customer data, features, and label to form the dataset.\n",
    "dataset <-\n",
    "    rxMerge(dataCustomers, dataFeatures, matchVars = \"UserId\",\n",
    "            outFile = tempfile(fileext = \".xdf\"),\n",
    "            rowsPerOutputBlock = rowsPerBlock)\n",
    "\n",
    "dataset <-\n",
    "    rxMerge(dataset, dataLabel, matchVars = \"UserId\",\n",
    "            varsToKeep2 = c(\"UserId\", \"Label\"),\n",
    "            outFile = tempfile(fileext = \".xdf\"),\n",
    "            rowsPerOutputBlock = rowsPerBlock)"
   ]
  },
  {
   "cell_type": "markdown",
   "metadata": {},
   "source": [
    "We can see the number of rows in the data set, and the list of its columns:"
   ]
  },
  {
   "cell_type": "code",
   "execution_count": 28,
   "metadata": {
    "collapsed": false
   },
   "outputs": [
    {
     "data": {
      "text/html": [
       "9159"
      ],
      "text/latex": [
       "9159"
      ],
      "text/markdown": [
       "9159"
      ],
      "text/plain": [
       "[1] 9159"
      ]
     },
     "metadata": {},
     "output_type": "display_data"
    },
    {
     "data": {
      "text/html": [
       "<ol class=list-inline>\n",
       "\t<li>\"UserId\"</li>\n",
       "\t<li>\"Age\"</li>\n",
       "\t<li>\"Address\"</li>\n",
       "\t<li>\"Recency\"</li>\n",
       "\t<li>\"MeanDaysBetweenActivity\"</li>\n",
       "\t<li>\"Quantity_StdDev\"</li>\n",
       "\t<li>\"Quantity_Sum\"</li>\n",
       "\t<li>\"Value_StdDev\"</li>\n",
       "\t<li>\"Value_Sum\"</li>\n",
       "\t<li>\"TransactionId_Counts\"</li>\n",
       "\t<li>\"ItemId_Counts\"</li>\n",
       "\t<li>\"Quantity_per_TransactionId\"</li>\n",
       "\t<li>\"Quantity_per_ItemId\"</li>\n",
       "\t<li>\"Value_per_TransactionId\"</li>\n",
       "\t<li>\"Value_per_ItemId\"</li>\n",
       "\t<li>\"Label\"</li>\n",
       "</ol>\n"
      ],
      "text/latex": [
       "\\begin{enumerate*}\n",
       "\\item \"UserId\"\n",
       "\\item \"Age\"\n",
       "\\item \"Address\"\n",
       "\\item \"Recency\"\n",
       "\\item \"MeanDaysBetweenActivity\"\n",
       "\\item \"Quantity\\_StdDev\"\n",
       "\\item \"Quantity\\_Sum\"\n",
       "\\item \"Value\\_StdDev\"\n",
       "\\item \"Value\\_Sum\"\n",
       "\\item \"TransactionId\\_Counts\"\n",
       "\\item \"ItemId\\_Counts\"\n",
       "\\item \"Quantity\\_per\\_TransactionId\"\n",
       "\\item \"Quantity\\_per\\_ItemId\"\n",
       "\\item \"Value\\_per\\_TransactionId\"\n",
       "\\item \"Value\\_per\\_ItemId\"\n",
       "\\item \"Label\"\n",
       "\\end{enumerate*}\n"
      ],
      "text/markdown": [
       "1. \"UserId\"\n",
       "2. \"Age\"\n",
       "3. \"Address\"\n",
       "4. \"Recency\"\n",
       "5. \"MeanDaysBetweenActivity\"\n",
       "6. \"Quantity_StdDev\"\n",
       "7. \"Quantity_Sum\"\n",
       "8. \"Value_StdDev\"\n",
       "9. \"Value_Sum\"\n",
       "10. \"TransactionId_Counts\"\n",
       "11. \"ItemId_Counts\"\n",
       "12. \"Quantity_per_TransactionId\"\n",
       "13. \"Quantity_per_ItemId\"\n",
       "14. \"Value_per_TransactionId\"\n",
       "15. \"Value_per_ItemId\"\n",
       "16. \"Label\"\n",
       "\n",
       "\n"
      ],
      "text/plain": [
       " [1] \"UserId\"                     \"Age\"                       \n",
       " [3] \"Address\"                    \"Recency\"                   \n",
       " [5] \"MeanDaysBetweenActivity\"    \"Quantity_StdDev\"           \n",
       " [7] \"Quantity_Sum\"               \"Value_StdDev\"              \n",
       " [9] \"Value_Sum\"                  \"TransactionId_Counts\"      \n",
       "[11] \"ItemId_Counts\"              \"Quantity_per_TransactionId\"\n",
       "[13] \"Quantity_per_ItemId\"        \"Value_per_TransactionId\"   \n",
       "[15] \"Value_per_ItemId\"           \"Label\"                     "
      ]
     },
     "metadata": {},
     "output_type": "display_data"
    }
   ],
   "source": [
    "nrow(dataset)\n",
    "names(dataset)"
   ]
  },
  {
   "cell_type": "markdown",
   "metadata": {},
   "source": [
    "And we can histogram one of the numerical columns by the Label column:"
   ]
  },
  {
   "cell_type": "code",
   "execution_count": 29,
   "metadata": {
    "collapsed": false
   },
   "outputs": [
    {
     "name": "stdout",
     "output_type": "stream",
     "text": [
      "Rows Read: 9159, Total Rows Processed: 9159, Total Chunk Time: 0.021 seconds \n",
      "Computation time: 0.041 seconds.\n"
     ]
    },
    {
     "data": {
      "image/png": "[encoded data removed]",
      "text/plain": [
       "plot without title"
      ]
     },
     "metadata": {},
     "output_type": "display_data"
    }
   ],
   "source": [
    "rxHistogram(~ ItemId_Counts | Label, dataset)"
   ]
  },
  {
   "cell_type": "markdown",
   "metadata": {},
   "source": [
    "The side-by-side histograms in the figure show that the non-churners on the left, the \"FALSE\", have a different distribution of counts than the churners on the right, the \"TRUE\"."
   ]
  },
  {
   "cell_type": "markdown",
   "metadata": {},
   "source": [
    "### <a id=\"Split\">2.6. SPLIT THE DATASET INTO TRAIN AND TEST</a>\n",
    "\n",
    "To create train and test sets, the data are randomly split by customer into two datasets. The training data customers will be used by the learners to fit models, while the test data customers will be used as a fair measure the performance of the fit models. Because the split is randomized, we first set the random seed used by the randomizer to guarantee we will be able to reproduce our results at a later date."
   ]
  },
  {
   "cell_type": "code",
   "execution_count": 30,
   "metadata": {
    "collapsed": false
   },
   "outputs": [
    {
     "name": "stdout",
     "output_type": "stream",
     "text": [
      "Rows Read: 9159, Total Rows Processed: 9159Rows Read: 7309, Total Rows Processed: 7309, Total Chunk Time: 0.055 seconds \n",
      "Rows Read: 1850, Total Rows Processed: 1850, Total Chunk Time: 0.038 seconds \n",
      ", Total Chunk Time: 0.852 seconds \n"
     ]
    }
   ],
   "source": [
    "#-----------------------------------------------------------------------\n",
    "# 6. Split the dataset into train and test data.\n",
    "#-----------------------------------------------------------------------\n",
    "# Set the random seed for reproducibility of randomness.\n",
    "set.seed(4253, \"L'Ecuyer-CMRG\")\n",
    "\n",
    "# Randomly split the data 80-20 between train and test sets.\n",
    "dataProb <- c(Train = 0.8, Test = 0.2)\n",
    "dataSplit <-\n",
    "    rxSplit(dataset,\n",
    "            splitByFactor = \"splitVar\",\n",
    "            transforms = list(splitVar =\n",
    "                                sample(dataFactor,\n",
    "                                       size = .rxNumRows,\n",
    "                                       replace = TRUE,\n",
    "                                       prob = dataProb)),\n",
    "            transformObjects =\n",
    "                list(dataProb = dataProb,\n",
    "                     dataFactor = factor(names(dataProb),\n",
    "                                         levels = names(dataProb))),\n",
    "            outFilesBase = tempfile())\n",
    "\n",
    "# Name the train and test datasets.\n",
    "dataTrain <- dataSplit[[1]]\n",
    "dataTest <- dataSplit[[2]]"
   ]
  },
  {
   "cell_type": "markdown",
   "metadata": {},
   "source": [
    "We can explore the distribution of \"Label\" in the train and test sets."
   ]
  },
  {
   "cell_type": "code",
   "execution_count": 31,
   "metadata": {
    "collapsed": false
   },
   "outputs": [
    {
     "name": "stdout",
     "output_type": "stream",
     "text": [
      "Rows Read: 7309, Total Rows Processed: 7309, Total Chunk Time: 0.003 seconds \n",
      "Computation time: 0.012 seconds.\n"
     ]
    },
    {
     "data": {
      "text/html": [
       "<table>\n",
       "<thead><tr><th></th><th scope=col>Name</th><th scope=col>Mean</th><th scope=col>StdDev</th><th scope=col>Min</th><th scope=col>Max</th><th scope=col>ValidObs</th><th scope=col>MissingObs</th></tr></thead>\n",
       "<tbody>\n",
       "\t<tr><th scope=row>1</th><td>Label            </td><td>0.598440279107949</td><td>0.490247278956304</td><td>0                </td><td>1                </td><td>7309             </td><td>0                </td></tr>\n",
       "</tbody>\n",
       "</table>\n"
      ],
      "text/latex": [
       "\\begin{tabular}{r|lllllll}\n",
       "  & Name & Mean & StdDev & Min & Max & ValidObs & MissingObs\\\\\n",
       "\\hline\n",
       "\t1 & Label             & 0.598440279107949 & 0.490247278956304 & 0                 & 1                 & 7309              & 0                \\\\\n",
       "\\end{tabular}\n"
      ],
      "text/plain": [
       "   Name      Mean    StdDev Min Max ValidObs MissingObs\n",
       "1 Label 0.5984403 0.4902473   0   1     7309          0"
      ]
     },
     "metadata": {},
     "output_type": "display_data"
    },
    {
     "name": "stdout",
     "output_type": "stream",
     "text": [
      "Rows Read: 1850, Total Rows Processed: 1850, Total Chunk Time: 0.006 seconds \n",
      "Computation time: 0.016 seconds.\n"
     ]
    },
    {
     "data": {
      "text/html": [
       "<table>\n",
       "<thead><tr><th></th><th scope=col>Name</th><th scope=col>Mean</th><th scope=col>StdDev</th><th scope=col>Min</th><th scope=col>Max</th><th scope=col>ValidObs</th><th scope=col>MissingObs</th></tr></thead>\n",
       "<tbody>\n",
       "\t<tr><th scope=row>1</th><td>Label            </td><td>0.612972972972973</td><td>0.487201614330556</td><td>0                </td><td>1                </td><td>1850             </td><td>0                </td></tr>\n",
       "</tbody>\n",
       "</table>\n"
      ],
      "text/latex": [
       "\\begin{tabular}{r|lllllll}\n",
       "  & Name & Mean & StdDev & Min & Max & ValidObs & MissingObs\\\\\n",
       "\\hline\n",
       "\t1 & Label             & 0.612972972972973 & 0.487201614330556 & 0                 & 1                 & 1850              & 0                \\\\\n",
       "\\end{tabular}\n"
      ],
      "text/plain": [
       "   Name     Mean    StdDev Min Max ValidObs MissingObs\n",
       "1 Label 0.612973 0.4872016   0   1     1850          0"
      ]
     },
     "metadata": {},
     "output_type": "display_data"
    }
   ],
   "source": [
    "rxSummary(~ Label, dataTrain)$sDataFrame\n",
    "rxSummary(~ Label, dataTest)$sDataFrame"
   ]
  },
  {
   "cell_type": "markdown",
   "metadata": {},
   "source": [
    "We read from the output that train has 7,309 rows while test has 1,850 rows. Because Label is a boolean, its mean shows the proportion of churners in the data. We see that train contains almost 60% churners and that test contains a bit more than 61% churners, which is a reasonable split."
   ]
  },
  {
   "cell_type": "markdown",
   "metadata": {},
   "source": [
    "### <a id=\"Model\">2.7. DEFINE THE MODEL</a>\n",
    "\n",
    "The model is a formula that describes what column has the label, and what columns are to be used to rxPredict the label. We will use as rxPredictors the feature column names from the dataset, which is all columns except for UserId, Label, and splitVar. Then we create a formula that says that Label is to be rxPredicted by the rxPredictor columns."
   ]
  },
  {
   "cell_type": "code",
   "execution_count": 32,
   "metadata": {
    "collapsed": false
   },
   "outputs": [
    {
     "data": {
      "text/plain": [
       "Label ~ Age + Address + Recency + MeanDaysBetweenActivity + Quantity_StdDev + \n",
       "    Quantity_Sum + Value_StdDev + Value_Sum + TransactionId_Counts + \n",
       "    ItemId_Counts + Quantity_per_TransactionId + Quantity_per_ItemId + \n",
       "    Value_per_TransactionId + Value_per_ItemId"
      ]
     },
     "metadata": {},
     "output_type": "display_data"
    }
   ],
   "source": [
    "#-----------------------------------------------------------------------\n",
    "# 7. Define the model to be fit.\n",
    "#-----------------------------------------------------------------------\n",
    "# The variables in the data.\n",
    "allVars <- names(dataTrain)\n",
    "\n",
    "# The other variables are the record's properties.\n",
    "xVars <- setdiff(allVars, c(\"UserId\", \"Label\", \"splitVar\"))\n",
    "\n",
    "# The model is a formula that says that churners are to be\n",
    "# identified using the other variables.\n",
    "(model <- formula(paste(\"Label ~\", paste(xVars, collapse = \" + \"))))"
   ]
  },
  {
   "cell_type": "markdown",
   "metadata": {},
   "source": [
    "The left-hand side of the formula is the label, while the right-hand side lists the rxPredictors."
   ]
  },
  {
   "cell_type": "markdown",
   "metadata": {},
   "source": [
    "### <a id=\"Fit\">2.8. FIT THE MODEL</a>\n",
    "\n",
    "The model will be fit by learners that can rxPredict class data: rxLogisticRegression, rxFastLinear, rxFastTrees, rxFastForest, and rxNeuralNet. In the next section, each fit will be used to score the test data. The comments in this section give a glimpse of the kind of work done by each learner."
   ]
  },
  {
   "cell_type": "code",
   "execution_count": 33,
   "metadata": {
    "collapsed": false
   },
   "outputs": [
    {
     "name": "stdout",
     "output_type": "stream",
     "text": [
      "Automatically adding a MinMax normalization transform, use 'norm=Warn' or 'norm=No' to turn this behavior off.\n",
      "Beginning read for block: 1\n",
      "Rows Read: 7309, Read Time: 0.008, Transform Time: 0\n",
      "Beginning read for block: 2\n",
      "No rows remaining. Finished reading data set. \n",
      "LBFGS multi-threading will attempt to load dataset into memory. In case of out-of-memory issues, turn off multi-threading by setting trainThreads to 1.\n",
      "Beginning read for block: 1\n",
      "Rows Read: 7309, Read Time: 0.009, Transform Time: 0\n",
      "Beginning read for block: 2\n",
      "No rows remaining. Finished reading data set. \n",
      "Beginning optimization\n",
      "num vars: 32\n",
      "improvement criterion: Mean Improvement\n",
      "L1 regularization selected 26 of 32 weights.\n",
      "Not training a calibrator because it is not needed.\n",
      "Elapsed time: 00:00:01.2134274\n",
      "Elapsed time: 00:00:00.3131805\n"
     ]
    }
   ],
   "source": [
    "#-----------------------------------------------------------------------\n",
    "# 8. Fit the model using different learners.\n",
    "#-----------------------------------------------------------------------\n",
    "# Fit the model with logistic regression. This finds the variable\n",
    "# weights that are most useful for rxPredicting churning. The\n",
    "# rxLogisticRegression learner automatically adjusts the weights to select\n",
    "# those variables that are most useful for making rxPredictions.\n",
    "rxLogisticRegressionFit <- rxLogisticRegression(model, data = dataTrain)"
   ]
  },
  {
   "cell_type": "code",
   "execution_count": 34,
   "metadata": {
    "collapsed": false
   },
   "outputs": [
    {
     "name": "stdout",
     "output_type": "stream",
     "text": [
      "Automatically adding a MinMax normalization transform, use 'norm=Warn' or 'norm=No' to turn this behavior off.\n",
      "Beginning read for block: 1\n",
      "Rows Read: 7309, Read Time: 0.022, Transform Time: 0\n",
      "Beginning read for block: 2\n",
      "No rows remaining. Finished reading data set. \n",
      "Beginning read for block: 1\n",
      "Rows Read: 7309, Read Time: 0.014, Transform Time: 0\n",
      "Beginning read for block: 2\n",
      "No rows remaining. Finished reading data set. \n",
      "Beginning read for block: 1\n",
      "Rows Read: 7309, Read Time: 0.011, Transform Time: 0\n",
      "Beginning read for block: 2\n",
      "No rows remaining. Finished reading data set. \n",
      "Wrote 7309 rows across 2 columns in 00:00:00.0858921\n",
      "Using 2 threads to train.\n",
      "Automatically choosing a check frequency of 2.\n",
      "Auto-tuning parameters: maxIterations = 204.\n",
      "Auto-tuning parameters: L2 = 2.682699E-05.\n",
      "Auto-tuning parameters: L1Threshold (L1/L2) = 0.\n",
      "Using best model from iteration 18.\n",
      "Not training a calibrator because it is not needed.\n",
      "Elapsed time: 00:00:00.6221419\n",
      "Elapsed time: 00:00:00.0475899\n"
     ]
    }
   ],
   "source": [
    "#-----------------------------------------------------------------------\n",
    "# Fit the model with linear regression. This finds the variable\n",
    "# weights that are most useful for rxPredicting churning. The\n",
    "# rxFastLinear learner automatically adjusts the weights to select\n",
    "# those variables that are most useful for making rxPredictions.\n",
    "rxFastLinearFit <- rxFastLinear(model, data = dataTrain)"
   ]
  },
  {
   "cell_type": "code",
   "execution_count": 35,
   "metadata": {
    "collapsed": false
   },
   "outputs": [
    {
     "name": "stdout",
     "output_type": "stream",
     "text": [
      "Not adding a normalizer.\n",
      "Making per-feature arrays\n",
      "Changing data from row-wise to column-wise\n",
      "Beginning read for block: 1\n",
      "Rows Read: 7309, Read Time: 0.008, Transform Time: 0\n",
      "Beginning read for block: 2\n",
      "No rows remaining. Finished reading data set. \n",
      "Processed 7309 instances\n",
      "Binning and forming Feature objects\n",
      "Reserved memory for tree learner: 424996 bytes\n",
      "Starting to train ...\n",
      "Not training a calibrator because it is not needed.\n",
      "Elapsed time: 00:00:00.6793178\n"
     ]
    }
   ],
   "source": [
    "#-----------------------------------------------------------------------\n",
    "# Fit the model with boosted trees. This finds the combinations of\n",
    "# variables and threshold values that are useful for rxPredicting churning.\n",
    "# The rxFastTrees learner automatically builds a sequence of trees so that\n",
    "# trees later in the sequence repair errors made by trees earlier in the\n",
    "# sequence.\n",
    "rxFastTreesFit <- rxFastTrees(model, data = dataTrain, randomSeed = 23648)"
   ]
  },
  {
   "cell_type": "code",
   "execution_count": 36,
   "metadata": {
    "collapsed": false
   },
   "outputs": [
    {
     "name": "stdout",
     "output_type": "stream",
     "text": [
      "Not adding a normalizer.\n",
      "Making per-feature arrays\n",
      "Changing data from row-wise to column-wise\n",
      "Beginning read for block: 1\n",
      "Rows Read: 7309, Read Time: 0.007, Transform Time: 0\n",
      "Beginning read for block: 2\n",
      "No rows remaining. Finished reading data set. \n",
      "Processed 7309 instances\n",
      "Binning and forming Feature objects\n",
      "Reserved memory for tree learner: 424996 bytes\n",
      "Starting to train ...\n",
      "Training calibrator.\n",
      "Beginning read for block: 1\n",
      "Rows Read: 7309, Read Time: 0.009, Transform Time: 0\n",
      "Beginning read for block: 2\n",
      "No rows remaining. Finished reading data set. \n",
      "Elapsed time: 00:00:00.6574803\n"
     ]
    }
   ],
   "source": [
    "#-----------------------------------------------------------------------\n",
    "# Fit the model with random forest. This finds the combinations of\n",
    "# variables and threshold values that are useful for rxPredicting churning.\n",
    "# The rxFastForest learner automatically builds a set of trees whose\n",
    "# combined rxPredictions are better than the rxPredictions of any one of the\n",
    "# trees.\n",
    "rxFastForestFit <- rxFastForest(model, data = dataTrain, randomSeed = 23648)"
   ]
  },
  {
   "cell_type": "code",
   "execution_count": 37,
   "metadata": {
    "collapsed": false
   },
   "outputs": [
    {
     "name": "stdout",
     "output_type": "stream",
     "text": [
      "Automatically adding a MinMax normalization transform, use 'norm=Warn' or 'norm=No' to turn this behavior off.\n",
      "Beginning read for block: 1\n",
      "Rows Read: 7309, Read Time: 0.009, Transform Time: 0\n",
      "Beginning read for block: 2\n",
      "No rows remaining. Finished reading data set. \n",
      "Beginning read for block: 1\n",
      "Rows Read: 7309, Read Time: 0.007, Transform Time: 0\n",
      "Beginning read for block: 2\n",
      "No rows remaining. Finished reading data set. \n",
      "Beginning read for block: 1\n",
      "Rows Read: 7309, Read Time: 0.008, Transform Time: 0\n",
      "Beginning read for block: 2\n",
      "No rows remaining. Finished reading data set. \n",
      "Wrote 7309 rows across 2 columns in 00:00:00.0486290\n",
      "Using: SSE Math\n",
      "\r\n",
      "***** Net definition *****\r\n",
      "  input Data [31];\r\n",
      "  hidden H [100] sigmoid { // Depth 1\r\n",
      "    from Data all;\r\n",
      "  }\r\n",
      "  output Result [2] sigmoid { // Depth 0\r\n",
      "    from H all;\r\n",
      "  }\r\n",
      "***** End net definition *****\r\n",
      "Input count: 31\n",
      "Output count: 2\n",
      "Output Function: Sigmoid\n",
      "Loss Function: CrossEntropy\n",
      "PreTrainer: NoPreTrainer\n",
      "___________________________________________________________________\n",
      "Starting training...\n",
      "Learning rate: 0.001000\n",
      "Momentum: 0.000000\n",
      "InitWtsDiameter: 0.100000\n",
      "___________________________________________________________________\n",
      "Initializing 1 Hidden Layers, 3402 Weights...\n",
      "Estimated Pre-training MeanError = 1.419091\n",
      "Iter:1/100, MeanErr=1.351414(-4.77%%), 518.13M WeightUpdates/sec\n",
      "Iter:2/100, MeanErr=1.348498(-0.22%%), 684.89M WeightUpdates/sec\n",
      "Iter:3/100, MeanErr=1.349368(0.06%%), 817.53M WeightUpdates/sec\n",
      "Iter:4/100, MeanErr=1.349041(-0.02%%), 671.37M WeightUpdates/sec\n",
      "Iter:5/100, MeanErr=1.347215(-0.14%%), 490.58M WeightUpdates/sec\n",
      "Iter:6/100, MeanErr=1.346543(-0.05%%), 753.59M WeightUpdates/sec\n",
      "Iter:7/100, MeanErr=1.345809(-0.05%%), 729.66M WeightUpdates/sec\n",
      "Iter:8/100, MeanErr=1.344484(-0.10%%), 756.14M WeightUpdates/sec\n",
      "Iter:9/100, MeanErr=1.343501(-0.07%%), 534.71M WeightUpdates/sec\n",
      "Iter:10/100, MeanErr=1.340001(-0.26%%), 812.81M WeightUpdates/sec\n",
      "Iter:11/100, MeanErr=1.337002(-0.22%%), 681.85M WeightUpdates/sec\n",
      "Iter:12/100, MeanErr=1.334828(-0.16%%), 759.82M WeightUpdates/sec\n",
      "Iter:13/100, MeanErr=1.330041(-0.36%%), 606.41M WeightUpdates/sec\n",
      "Iter:14/100, MeanErr=1.326784(-0.24%%), 684.96M WeightUpdates/sec\n",
      "Iter:15/100, MeanErr=1.319835(-0.52%%), 787.29M WeightUpdates/sec\n",
      "Iter:16/100, MeanErr=1.315028(-0.36%%), 697.76M WeightUpdates/sec\n",
      "Iter:17/100, MeanErr=1.307945(-0.54%%), 727.49M WeightUpdates/sec\n",
      "Iter:18/100, MeanErr=1.301904(-0.46%%), 789.25M WeightUpdates/sec\n",
      "Iter:19/100, MeanErr=1.295819(-0.47%%), 860.96M WeightUpdates/sec\n",
      "Iter:20/100, MeanErr=1.289469(-0.49%%), 877.70M WeightUpdates/sec\n",
      "Iter:21/100, MeanErr=1.283154(-0.49%%), 729.46M WeightUpdates/sec\n",
      "Iter:22/100, MeanErr=1.276183(-0.54%%), 746.87M WeightUpdates/sec\n",
      "Iter:23/100, MeanErr=1.273232(-0.23%%), 472.63M WeightUpdates/sec\n",
      "Iter:24/100, MeanErr=1.268626(-0.36%%), 766.15M WeightUpdates/sec\n",
      "Iter:25/100, MeanErr=1.264070(-0.36%%), 795.18M WeightUpdates/sec\n",
      "Iter:26/100, MeanErr=1.260108(-0.31%%), 883.17M WeightUpdates/sec\n",
      "Iter:27/100, MeanErr=1.256697(-0.27%%), 735.11M WeightUpdates/sec\n",
      "Iter:28/100, MeanErr=1.253860(-0.23%%), 757.41M WeightUpdates/sec\n",
      "Iter:29/100, MeanErr=1.252634(-0.10%%), 796.92M WeightUpdates/sec\n",
      "Iter:30/100, MeanErr=1.249963(-0.21%%), 836.74M WeightUpdates/sec\n",
      "Iter:31/100, MeanErr=1.247013(-0.24%%), 591.97M WeightUpdates/sec\n",
      "Iter:32/100, MeanErr=1.245857(-0.09%%), 819.51M WeightUpdates/sec\n",
      "Iter:33/100, MeanErr=1.244932(-0.07%%), 835.24M WeightUpdates/sec\n",
      "Iter:34/100, MeanErr=1.243625(-0.11%%), 851.32M WeightUpdates/sec\n",
      "Iter:35/100, MeanErr=1.242183(-0.12%%), 647.04M WeightUpdates/sec\n",
      "Iter:36/100, MeanErr=1.239829(-0.19%%), 751.63M WeightUpdates/sec\n",
      "Iter:37/100, MeanErr=1.240163(0.03%%), 745.70M WeightUpdates/sec\n",
      "Iter:38/100, MeanErr=1.236754(-0.27%%), 856.44M WeightUpdates/sec\n",
      "Iter:39/100, MeanErr=1.237294(0.04%%), 686.91M WeightUpdates/sec\n",
      "Iter:40/100, MeanErr=1.235300(-0.16%%), 791.54M WeightUpdates/sec\n",
      "Iter:41/100, MeanErr=1.234945(-0.03%%), 841.30M WeightUpdates/sec\n",
      "Iter:42/100, MeanErr=1.234442(-0.04%%), 476.29M WeightUpdates/sec\n",
      "Iter:43/100, MeanErr=1.234116(-0.03%%), 620.04M WeightUpdates/sec\n",
      "Iter:44/100, MeanErr=1.233052(-0.09%%), 856.90M WeightUpdates/sec\n",
      "Iter:45/100, MeanErr=1.231172(-0.15%%), 783.40M WeightUpdates/sec\n",
      "Iter:46/100, MeanErr=1.231830(0.05%%), 825.24M WeightUpdates/sec\n",
      "Iter:47/100, MeanErr=1.229474(-0.19%%), 712.12M WeightUpdates/sec\n",
      "Iter:48/100, MeanErr=1.229535(0.01%%), 810.57M WeightUpdates/sec\n",
      "Iter:49/100, MeanErr=1.228181(-0.11%%), 843.66M WeightUpdates/sec\n",
      "Iter:50/100, MeanErr=1.227332(-0.07%%), 824.24M WeightUpdates/sec\n",
      "Iter:51/100, MeanErr=1.226563(-0.06%%), 672.36M WeightUpdates/sec\n",
      "Iter:52/100, MeanErr=1.226364(-0.02%%), 789.57M WeightUpdates/sec\n",
      "Iter:53/100, MeanErr=1.224928(-0.12%%), 823.70M WeightUpdates/sec\n",
      "Iter:54/100, MeanErr=1.225127(0.02%%), 798.82M WeightUpdates/sec\n",
      "Iter:55/100, MeanErr=1.224130(-0.08%%), 687.97M WeightUpdates/sec\n",
      "Iter:56/100, MeanErr=1.223238(-0.07%%), 731.98M WeightUpdates/sec\n",
      "Iter:57/100, MeanErr=1.222048(-0.10%%), 588.04M WeightUpdates/sec\n",
      "Iter:58/100, MeanErr=1.221892(-0.01%%), 885.09M WeightUpdates/sec\n",
      "Iter:59/100, MeanErr=1.221287(-0.05%%), 779.23M WeightUpdates/sec\n",
      "Iter:60/100, MeanErr=1.219633(-0.14%%), 790.24M WeightUpdates/sec\n",
      "Iter:61/100, MeanErr=1.218886(-0.06%%), 397.56M WeightUpdates/sec\n",
      "Iter:62/100, MeanErr=1.217976(-0.07%%), 563.65M WeightUpdates/sec\n",
      "Iter:63/100, MeanErr=1.217935(0.00%%), 623.05M WeightUpdates/sec\n",
      "Iter:64/100, MeanErr=1.217117(-0.07%%), 588.02M WeightUpdates/sec\n",
      "Iter:65/100, MeanErr=1.217122(0.00%%), 640.50M WeightUpdates/sec\n",
      "Iter:66/100, MeanErr=1.215266(-0.15%%), 793.20M WeightUpdates/sec\n",
      "Iter:67/100, MeanErr=1.216080(0.07%%), 605.96M WeightUpdates/sec\n",
      "Iter:68/100, MeanErr=1.215173(-0.07%%), 642.69M WeightUpdates/sec\n",
      "Iter:69/100, MeanErr=1.215074(-0.01%%), 682.15M WeightUpdates/sec\n",
      "Iter:70/100, MeanErr=1.212697(-0.20%%), 813.30M WeightUpdates/sec\n",
      "Iter:71/100, MeanErr=1.213523(0.07%%), 841.44M WeightUpdates/sec\n",
      "Iter:72/100, MeanErr=1.212381(-0.09%%), 767.99M WeightUpdates/sec\n",
      "Iter:73/100, MeanErr=1.212410(0.00%%), 768.44M WeightUpdates/sec\n",
      "Iter:74/100, MeanErr=1.211558(-0.07%%), 824.64M WeightUpdates/sec\n",
      "Iter:75/100, MeanErr=1.210536(-0.08%%), 673.67M WeightUpdates/sec\n",
      "Iter:76/100, MeanErr=1.211116(0.05%%), 632.95M WeightUpdates/sec\n",
      "Iter:77/100, MeanErr=1.209423(-0.14%%), 589.01M WeightUpdates/sec\n",
      "Iter:78/100, MeanErr=1.209083(-0.03%%), 841.89M WeightUpdates/sec\n",
      "Iter:79/100, MeanErr=1.209338(0.02%%), 678.24M WeightUpdates/sec\n",
      "Iter:80/100, MeanErr=1.209280(0.00%%), 818.26M WeightUpdates/sec\n",
      "Iter:81/100, MeanErr=1.208062(-0.10%%), 691.09M WeightUpdates/sec\n",
      "Iter:82/100, MeanErr=1.208157(0.01%%), 861.88M WeightUpdates/sec\n",
      "Iter:83/100, MeanErr=1.208314(0.01%%), 888.67M WeightUpdates/sec\n",
      "Iter:84/100, MeanErr=1.206791(-0.13%%), 836.26M WeightUpdates/sec\n",
      "Iter:85/100, MeanErr=1.206058(-0.06%%), 711.77M WeightUpdates/sec\n",
      "Iter:86/100, MeanErr=1.206718(0.05%%), 890.07M WeightUpdates/sec\n",
      "Iter:87/100, MeanErr=1.205969(-0.06%%), 834.35M WeightUpdates/sec\n",
      "Iter:88/100, MeanErr=1.205921(0.00%%), 830.24M WeightUpdates/sec\n",
      "Iter:89/100, MeanErr=1.205740(-0.02%%), 665.40M WeightUpdates/sec\n",
      "Iter:90/100, MeanErr=1.203961(-0.15%%), 765.06M WeightUpdates/sec\n",
      "Iter:91/100, MeanErr=1.204971(0.08%%), 861.34M WeightUpdates/sec\n",
      "Iter:92/100, MeanErr=1.204441(-0.04%%), 814.47M WeightUpdates/sec\n",
      "Iter:93/100, MeanErr=1.205105(0.06%%), 737.62M WeightUpdates/sec\n",
      "Iter:94/100, MeanErr=1.204648(-0.04%%), 842.31M WeightUpdates/sec\n",
      "Iter:95/100, MeanErr=1.204461(-0.02%%), 835.39M WeightUpdates/sec\n",
      "Iter:96/100, MeanErr=1.204172(-0.02%%), 769.59M WeightUpdates/sec\n",
      "Iter:97/100, MeanErr=1.202897(-0.11%%), 655.13M WeightUpdates/sec\n",
      "Iter:98/100, MeanErr=1.203049(0.01%%), 858.24M WeightUpdates/sec\n",
      "Iter:99/100, MeanErr=1.202959(-0.01%%), 843.62M WeightUpdates/sec\n",
      "Iter:100/100, MeanErr=1.202362(-0.05%%), 875.24M WeightUpdates/sec\n",
      "Done!\n",
      "Estimated Post-training MeanError = 1.207479\n",
      "___________________________________________________________________\n",
      "Not training a calibrator because it is not needed.\n",
      "Elapsed time: 00:00:03.8093074\n"
     ]
    }
   ],
   "source": [
    "#-----------------------------------------------------------------------\n",
    "# Fit the model with neural net. This finds the variable weights that\n",
    "# are most useful for rxPredicting churning. Neural net can excel when\n",
    "# dealing with non-linear relationships between the variables.\n",
    "rxNeuralNetFit <- rxNeuralNet(model, data = dataTrain)"
   ]
  },
  {
   "cell_type": "markdown",
   "metadata": {},
   "source": [
    "### <a id=\"Score\">2.9. SCORE THE TEST DATA</a>\n",
    "\n",
    "Each fit will be used to score the test data.  In order to plot together each fit's performance for convenient side-by-side comparison, we append each rxPrediction column to the test dataset. This will also conveniently include the Label column with the rxPredictions, so that the rxPrediction performance can be computed. When the test data are huge, scoring in this manner may not be possible. In that case, each rxPrediction set will have to be computed separately, and then merged into one data table."
   ]
  },
  {
   "cell_type": "code",
   "execution_count": 38,
   "metadata": {
    "collapsed": false
   },
   "outputs": [
    {
     "name": "stdout",
     "output_type": "stream",
     "text": [
      "Beginning read for block: 1\n",
      "Rows Read: 1850, Read Time: 0.017, Transform Time: 0\n",
      "Beginning read for block: 2\n",
      "No rows remaining. Finished reading data set. \n",
      "Elapsed time: 00:00:00.3163578\n",
      "Finished writing 1850 rows.\n",
      "Writing completed.\n",
      "Beginning read for block: 1\n",
      "Rows Read: 1850, Read Time: 0.011, Transform Time: 0\n",
      "Beginning read for block: 2\n",
      "No rows remaining. Finished reading data set. \n",
      "Elapsed time: 00:00:00.2339721\n",
      "Finished writing 1850 rows.\n",
      "Writing completed.\n",
      "Beginning read for block: 1\n",
      "Rows Read: 1850, Read Time: 0.015, Transform Time: 0\n",
      "Beginning read for block: 2\n",
      "No rows remaining. Finished reading data set. \n",
      "Elapsed time: 00:00:00.2864641\n",
      "Finished writing 1850 rows.\n",
      "Writing completed.\n",
      "Beginning read for block: 1\n",
      "Rows Read: 1850, Read Time: 0.01, Transform Time: 0\n",
      "Beginning read for block: 2\n",
      "No rows remaining. Finished reading data set. \n",
      "Elapsed time: 00:00:00.2866353\n",
      "Finished writing 1850 rows.\n",
      "Writing completed.\n",
      "Beginning read for block: 1\n",
      "Rows Read: 1850, Read Time: 0.014, Transform Time: 0\n",
      "Beginning read for block: 2\n",
      "No rows remaining. Finished reading data set. \n",
      "Elapsed time: 00:00:00.2722722\n",
      "Finished writing 1850 rows.\n",
      "Writing completed.\n"
     ]
    }
   ],
   "source": [
    "#-----------------------------------------------------------------------\n",
    "# 9. Score the held-aside test data with the fit models.\n",
    "#-----------------------------------------------------------------------\n",
    "# The scores are each test record's probability of being a churner. This\n",
    "# combines each fit model's rxPredictions and the label into one table\n",
    "# for side-by-side plotting and comparison.\n",
    "fitScores <-\n",
    "    rxPredict(rxLogisticRegressionFit, dataTest, suffix = \".rxLogisticRegression\",\n",
    "              extraVarsToWrite = names(dataTest),\n",
    "              outData = tempfile(fileext = \".xdf\"))\n",
    "fitScores <-\n",
    "    rxPredict(rxFastLinearFit, fitScores, suffix = \".rxFastLinear\",\n",
    "              extraVarsToWrite = names(fitScores),\n",
    "              outData = tempfile(fileext = \".xdf\"))\n",
    "fitScores <-\n",
    "    rxPredict(rxFastTreesFit, fitScores, suffix = \".rxFastTrees\",\n",
    "              extraVarsToWrite = names(fitScores),\n",
    "              outData = tempfile(fileext = \".xdf\"))\n",
    "fitScores <-\n",
    "    rxPredict(rxFastForestFit, fitScores, suffix = \".rxFastForest\",\n",
    "              extraVarsToWrite = names(fitScores),\n",
    "              outData = tempfile(fileext = \".xdf\"))\n",
    "fitScores <-\n",
    "    rxPredict(rxNeuralNetFit, fitScores, suffix = \".rxNeuralNet\",\n",
    "              extraVarsToWrite = names(fitScores),\n",
    "              outData = tempfile(fileext = \".xdf\"))"
   ]
  },
  {
   "cell_type": "markdown",
   "metadata": {},
   "source": [
    "We see from the output above that the number of rows in the results is the same as the number of rows in the test data."
   ]
  },
  {
   "cell_type": "markdown",
   "metadata": {},
   "source": [
    "### <a id=\"Compare\">2.10. COMPARE THE FIT MODEL PERFORMANCE</a>\n",
    "\n",
    "For each fit model, its rxPredictions and the Label are used to compute an ROC curve for that fit. The curves will then be plotted side-by-side in a graph."
   ]
  },
  {
   "cell_type": "code",
   "execution_count": 39,
   "metadata": {
    "collapsed": false
   },
   "outputs": [
    {
     "data": {
      "image/png": "[encoded data removed]",
      "text/plain": [
       "plot without title"
      ]
     },
     "metadata": {},
     "output_type": "display_data"
    }
   ],
   "source": [
    "#-----------------------------------------------------------------------\n",
    "# 10. Compare the performance of fit models.\n",
    "#-----------------------------------------------------------------------\n",
    "# Compute ROC curves for the fit models.\n",
    "fitRoc <-\n",
    "    rxRoc(\"Label\",\n",
    "          paste(\"Probability\",\n",
    "                 c(\"rxLogisticRegression\", \"rxFastLinear\", \"rxFastTrees\",\n",
    "                   \"rxFastForest\", \"rxNeuralNet\"),\n",
    "                 sep = \".\"),\n",
    "          fitScores)\n",
    "\n",
    "# Plot the ROC curves and report their AUCs.\n",
    "plot(fitRoc)"
   ]
  },
  {
   "cell_type": "markdown",
   "metadata": {},
   "source": [
    "The fit models are then used to compute the fit model AUCs, and these are used to select the best model."
   ]
  },
  {
   "cell_type": "code",
   "execution_count": 40,
   "metadata": {
    "collapsed": false
   },
   "outputs": [
    {
     "name": "stdout",
     "output_type": "stream",
     "text": [
      "Fit model AUCs:\n",
      "        rxFastForest         rxFastLinear          rxFastTrees rxLogisticRegression \n",
      "              0.76               0.73               0.73               0.73 \n",
      "         rxNeuralNet \n",
      "              0.73 \n",
      "Best fit model with rxFastForest, AUC = 0.76.\n"
     ]
    }
   ],
   "source": [
    "# Create a named list of the fit models.\n",
    "fitList <-\n",
    "    list(rxLogisticRegression = rxLogisticRegressionFit,\n",
    "         rxFastLinear = rxFastLinearFit,\n",
    "         rxFastTrees = rxFastTreesFit,\n",
    "         rxFastForest = rxFastForestFit,\n",
    "         rxNeuralNet = rxNeuralNetFit)\n",
    "\n",
    "# Compute the AUCs of the fit models.\n",
    "fitAuc <- rxAuc(fitRoc)\n",
    "names(fitAuc) <- substring(names(fitAuc), nchar(\"Probability.\") + 1)\n",
    "\n",
    "# Find the name of the fit with the largest AUC.\n",
    "bestFitName <- names(which.max(fitAuc))\n",
    "\n",
    "# Select the fit model with the largest AUC.\n",
    "bestFit <- fitList[[bestFitName]]\n",
    "\n",
    "# Report the fit AUCs.\n",
    "cat(\"Fit model AUCs:\\n\")\n",
    "print(fitAuc, digits = 2)\n",
    "\n",
    "# Report the best fit.\n",
    "cat(paste0(\"Best fit model with \", bestFitName,\n",
    "           \", AUC = \", signif(fitAuc[[bestFitName]], digits = 2),\n",
    "           \".\\n\"))"
   ]
  },
  {
   "cell_type": "markdown",
   "metadata": {},
   "source": [
    "In the end, the best fit model is stored in variable bestFit."
   ]
  },
  {
   "cell_type": "markdown",
   "metadata": {},
   "source": [
    "## <a id=\"Next\">3. WHAT'S NEXT?</a>\n",
    "\n",
    "In the Microsoft ML samples directory, the script Churn.R contains all the R code used in this tutorial. It also contains other scripts formatted to follow the steps used for retail churn. Try them out interactively, and learn about other Microsoft ML capabilities."
   ]
  }
 ],
 "metadata": {
  "anaconda-cloud": {},
  "kernelspec": {
   "display_name": "R",
   "language": "R",
   "name": "ir"
  },
  "language_info": {
   "codemirror_mode": "r",
   "file_extension": ".r",
   "mimetype": "text/x-r-source",
   "name": "R",
   "pygments_lexer": "r",
   "version": "3.3.2"
  }
 },
 "nbformat": 4,
 "nbformat_minor": 1
}
