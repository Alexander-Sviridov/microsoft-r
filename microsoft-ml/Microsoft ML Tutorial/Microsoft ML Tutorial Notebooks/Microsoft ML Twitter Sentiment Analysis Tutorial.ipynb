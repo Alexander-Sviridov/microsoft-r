{
 "cells": [
  {
   "cell_type": "markdown",
   "metadata": {},
   "source": [
    "# Microsoft ML Twitter Sentiment Analysis Tutorial\n",
    "\n",
    "1. [Overview](#Overview)\n",
    "2. [Fitting Models That Identify Sentiment](#TwitterSentiment)\n",
    "3. [What's Next?](#Next)"
   ]
  },
  {
   "cell_type": "markdown",
   "metadata": {},
   "source": [
    "## <a id=\"Overview\">1. OVERVIEW</a>\n",
    "\n",
    "Microsoft Machine Learning, or Microsoft ML for short, is an R package within Microsoft R Services that includes powerful machine learning algorithms and associated tools. The tutorial is an introduction to Microsoft ML for data scientists who want to take advantage of its unique capabilities.  It is intended primarily for those who are comfortable with using Microsoft R Services for data science, and want to see an end-to-end example that uses Microsoft ML to carry out common data science tasks."
   ]
  },
  {
   "cell_type": "markdown",
   "metadata": {},
   "source": [
    "## <a id=\"TwitterSentiment\">2. FITTING MODELS THAT IDENTIFY SENTIMENT</a>\n",
    "\n",
    "The tutorial steps through the fitting of a model for identifying sentiment from Twitter text. Identifying how people feel about a product or an event is important to sales. We will focus on identifying which tweets identify happiness or sadness.\n",
    "\n",
    "The tutorial begins from data imported from a twitter database. In this tutorial, the features are automatically extracted from the text using the featurizeText Microsoft ML transform. Then, a model is fit by multiple learning algorithms, and the performance of these fit models is compared to select the best one. The initial and final steps in this process will be familiar to Microsoft R Services users, while the model fitting and performance evaluation steps will involve new Microsoft ML commands."
   ]
  },
  {
   "cell_type": "markdown",
   "metadata": {
    "collapsed": true
   },
   "source": [
    "### <a id=\"Packages\">2.1. LOADING THE PACKAGES</a>\n",
    "\n",
    "The tutorial is broken into steps, the first being loading the Microsoft ML package. When you execute the first step, there should be no output."
   ]
  },
  {
   "cell_type": "code",
   "execution_count": 1,
   "metadata": {
    "collapsed": true
   },
   "outputs": [],
   "source": [
    "#-----------------------------------------------------------------------\n",
    "# 1. Load packages.\n",
    "#-----------------------------------------------------------------------\n",
    "if (!suppressPackageStartupMessages(require(\"MicrosoftML\",\n",
    "                                            quietly = TRUE,\n",
    "                                            warn.conflicts = FALSE))) {\n",
    "    stop(\"The MicrosoftML package does not seem to be installed, so this\\n\",\n",
    "         \"script cannot be run. If Microsoft R Server with MML is installed,\\n\",\n",
    "         \"you may need to switch the R engine option. In R Tools for Visual\\n\",\n",
    "         \"Studio, this option is under:\\n\",\n",
    "         \"\\tR Tools -> Options -> R Engine.\\n\",\n",
    "         \"If Microsoft R Server with MML is not installed, you can download it\\n\",\n",
    "         \"from https://microsoft.sharepoint.com/teams/TLC/SitePages/MicrosoftML.aspx\\n\")\n",
    "}"
   ]
  },
  {
   "cell_type": "markdown",
   "metadata": {},
   "source": [
    "### <a id=\"Import\">2.2. IMPORT DATA</a>\n",
    "\n",
    "The second step consists of importing the data we will use to fit a model. There is only one table of data: the HappyOrSad table. This section imports that table into an Xdf. These Xdfs are an efficient way of working with large amounts of data. They are files in which the rows are grouped in blocks whose size is specified by the parameter rowsPerBlock."
   ]
  },
  {
   "cell_type": "code",
   "execution_count": 2,
   "metadata": {
    "collapsed": false
   },
   "outputs": [],
   "source": [
    "#-----------------------------------------------------------------------\n",
    "# 2. Import data.\n",
    "#-----------------------------------------------------------------------\n",
    "\n",
    "# The directory containing data files.\n",
    "dataDir <- file.path(\"Data\")\n",
    "\n",
    "# Verify that the data file exists.\n",
    "if (!file.exists(file.path(dataDir, \"HappyOrSad.csv\"))) {\n",
    "    stop(\"The data files needed for running this script cannot be found.\\n\",\n",
    "         \"You may need to set R's working directory to the location of the Data\\n\",\n",
    "         \"directory.\")\n",
    "}\n",
    "\n",
    "# The data chunk size.\n",
    "rowsPerBlock <- 1000000"
   ]
  },
  {
   "cell_type": "markdown",
   "metadata": {},
   "source": [
    "The HappyOrSad table has one row per tweet, and three columns: id_nfpu, features, and label. Because the id_nfpu column uniquely identifies each tweet, it is ignored. The two remaining  columns are text, and they are respectively renamed Text and sentiment. As part of the importing process, we create Label, a logical variable that is TRUE when the sentiment is happiness, and false otherwise."
   ]
  },
  {
   "cell_type": "code",
   "execution_count": 3,
   "metadata": {
    "collapsed": false
   },
   "outputs": [
    {
     "name": "stdout",
     "output_type": "stream",
     "text": [
      "Rows Read: 10362, Total Rows Processed: 10362, Total Chunk Time: 0.152 seconds \n"
     ]
    }
   ],
   "source": [
    "# The data source has three columns. Keep the tweet text and sentiment.\n",
    "datasetSource <-\n",
    "    RxTextData(file.path(dataDir, \"HappyOrSad.csv\"),\n",
    "               varsToKeep = c(\"features\", \"label\"),\n",
    "               colInfo = list(features = list(type = \"character\",\n",
    "                                              newName = \"Text\"),\n",
    "                              label = list(type = \"character\",\n",
    "                                           newName = \"sentiment\")),\n",
    "               quotedDelimiters = TRUE)\n",
    "\n",
    "# Import the data. Define Label.\n",
    "dataset <-\n",
    "    rxImport(datasetSource,\n",
    "             transforms = list(Label = sentiment == \"happiness\"),\n",
    "             outFile = tempfile(fileext = \".xdf\"),\n",
    "             rowsPerRead = rowsPerBlock)"
   ]
  },
  {
   "cell_type": "markdown",
   "metadata": {},
   "source": [
    "We can see from the output that the activity table has 252,204 rows, and its first few rows are"
   ]
  },
  {
   "cell_type": "code",
   "execution_count": 4,
   "metadata": {
    "collapsed": false,
    "scrolled": true
   },
   "outputs": [
    {
     "data": {
      "text/html": [
       "<table>\n",
       "<thead><tr><th scope=col>Text</th><th scope=col>sentiment</th><th scope=col>Label</th></tr></thead>\n",
       "<tbody>\n",
       "\t<tr><td>Layin n bed with a headache  ughhhh...waitin on your call...                                                                         </td><td>sadness                                                                                                                              </td><td>FALSE                                                                                                                                </td></tr>\n",
       "\t<tr><td>Funeral ceremony...gloomy friday...                                                                                                  </td><td>sadness                                                                                                                              </td><td>FALSE                                                                                                                                </td></tr>\n",
       "\t<tr><td>I should be sleep, but im not! thinking about an old friend who I want. but he's married now. damn, &amp;amp; he wants me 2! scandalous! </td><td>sadness                                                                                                                                  </td><td>FALSE                                                                                                                                    </td></tr>\n",
       "\t<tr><td>@charviray Charlene my love. I miss you                                                                                              </td><td>sadness                                                                                                                              </td><td>FALSE                                                                                                                                </td></tr>\n",
       "\t<tr><td>@kelcouch I'm sorry  at least it's Friday?                                                                                           </td><td>sadness                                                                                                                              </td><td>FALSE                                                                                                                                </td></tr>\n",
       "\t<tr><td>Ugh! I have to beat this stupid song to get to the next  rude!                                                                       </td><td>sadness                                                                                                                              </td><td>FALSE                                                                                                                                </td></tr>\n",
       "</tbody>\n",
       "</table>\n"
      ],
      "text/latex": [
       "\\begin{tabular}{r|lll}\n",
       " Text & sentiment & Label\\\\\n",
       "\\hline\n",
       "\t Layin n bed with a headache  ughhhh...waitin on your call...                                                                          & sadness                                                                                                                               & FALSE                                                                                                                                \\\\\n",
       "\t Funeral ceremony...gloomy friday...                                                                                                   & sadness                                                                                                                               & FALSE                                                                                                                                \\\\\n",
       "\t I should be sleep, but im not! thinking about an old friend who I want. but he's married now. damn, \\&amp; he wants me 2! scandalous!  & sadness                                                                                                                                 & FALSE                                                                                                                                  \\\\\n",
       "\t @charviray Charlene my love. I miss you                                                                                               & sadness                                                                                                                               & FALSE                                                                                                                                \\\\\n",
       "\t @kelcouch I'm sorry  at least it's Friday?                                                                                            & sadness                                                                                                                               & FALSE                                                                                                                                \\\\\n",
       "\t Ugh! I have to beat this stupid song to get to the next  rude!                                                                        & sadness                                                                                                                               & FALSE                                                                                                                                \\\\\n",
       "\\end{tabular}\n"
      ],
      "text/plain": [
       "  Text                                                                                                                                 \n",
       "1 Layin n bed with a headache  ughhhh...waitin on your call...                                                                         \n",
       "2 Funeral ceremony...gloomy friday...                                                                                                  \n",
       "3 I should be sleep, but im not! thinking about an old friend who I want. but he's married now. damn, &amp; he wants me 2! scandalous! \n",
       "4 @charviray Charlene my love. I miss you                                                                                              \n",
       "5 @kelcouch I'm sorry  at least it's Friday?                                                                                           \n",
       "6 Ugh! I have to beat this stupid song to get to the next  rude!                                                                       \n",
       "  sentiment Label\n",
       "1 sadness   FALSE\n",
       "2 sadness   FALSE\n",
       "3 sadness   FALSE\n",
       "4 sadness   FALSE\n",
       "5 sadness   FALSE\n",
       "6 sadness   FALSE"
      ]
     },
     "metadata": {},
     "output_type": "display_data"
    }
   ],
   "source": [
    "head(dataset)"
   ]
  },
  {
   "cell_type": "markdown",
   "metadata": {},
   "source": [
    "### <a id=\"Split\">2.3. SPLIT THE DATASET INTO TRAIN AND TEST</a>\n",
    "\n",
    "To create train and test sets, the data are randomly split by tweet into two datasets. The training data tweets will be used by the learners to fit models, while the test data tweets  will be used as a fair measure the performance of the fit models. Because the split is randomized, we first set the random seed used by the randomizer to guarantee we will be able to reproduce our results at a later date."
   ]
  },
  {
   "cell_type": "code",
   "execution_count": 5,
   "metadata": {
    "collapsed": false
   },
   "outputs": [
    {
     "name": "stdout",
     "output_type": "stream",
     "text": [
      "Rows Read: 10362, Total Rows Processed: 10362Rows Read: 8279, Total Rows Processed: 8279, Total Chunk Time: 0.020 seconds \n",
      "Rows Read: 2083, Total Rows Processed: 2083, Total Chunk Time: 0.006 seconds \n",
      ", Total Chunk Time: 0.219 seconds \n"
     ]
    }
   ],
   "source": [
    "#-----------------------------------------------------------------------\n",
    "# 3. Split the dataset into train and test data.\n",
    "#-----------------------------------------------------------------------\n",
    "# Set the random seed for reproducibility of randomness.\n",
    "set.seed(2345, \"L'Ecuyer-CMRG\")\n",
    "# Randomly split the data 80-20 between train and test sets.\n",
    "dataProb <- c(Train = 0.8, Test = 0.2)\n",
    "dataSplit <-\n",
    "    rxSplit(dataset,\n",
    "            splitByFactor = \"splitVar\",\n",
    "            transforms = list(splitVar =\n",
    "                                sample(dataFactor,\n",
    "                                       size = .rxNumRows,\n",
    "                                       replace = TRUE,\n",
    "                                       prob = dataProb)),\n",
    "            transformObjects =\n",
    "                list(dataProb = dataProb,\n",
    "                     dataFactor = factor(names(dataProb),\n",
    "                                         levels = names(dataProb))),\n",
    "            outFilesBase = tempfile())\n",
    "\n",
    "# Name the train and test datasets.\n",
    "dataTrain <- dataSplit[[1]]\n",
    "dataTest <- dataSplit[[2]]"
   ]
  },
  {
   "cell_type": "markdown",
   "metadata": {},
   "source": [
    "We can explore the distribution of \"Label\" in the train and test sets."
   ]
  },
  {
   "cell_type": "code",
   "execution_count": 6,
   "metadata": {
    "collapsed": false
   },
   "outputs": [
    {
     "name": "stdout",
     "output_type": "stream",
     "text": [
      "Rows Read: 8279, Total Rows Processed: 8279, Total Chunk Time: Less than .001 seconds \n",
      "Computation time: 0.002 seconds.\n"
     ]
    },
    {
     "data": {
      "text/html": [
       "<table>\n",
       "<thead><tr><th scope=col>Name</th><th scope=col>Mean</th><th scope=col>StdDev</th><th scope=col>Min</th><th scope=col>Max</th><th scope=col>ValidObs</th><th scope=col>MissingObs</th></tr></thead>\n",
       "<tbody>\n",
       "\t<tr><td>Label    </td><td>0.5057374</td><td>0.4999973</td><td>0        </td><td>1        </td><td>8279     </td><td>0        </td></tr>\n",
       "</tbody>\n",
       "</table>\n"
      ],
      "text/latex": [
       "\\begin{tabular}{r|lllllll}\n",
       " Name & Mean & StdDev & Min & Max & ValidObs & MissingObs\\\\\n",
       "\\hline\n",
       "\t Label     & 0.5057374 & 0.4999973 & 0         & 1         & 8279      & 0        \\\\\n",
       "\\end{tabular}\n"
      ],
      "text/plain": [
       "  Name  Mean      StdDev    Min Max ValidObs MissingObs\n",
       "1 Label 0.5057374 0.4999973 0   1   8279     0         "
      ]
     },
     "metadata": {},
     "output_type": "display_data"
    },
    {
     "name": "stdout",
     "output_type": "stream",
     "text": [
      "Rows Read: 2083, Total Rows Processed: 2083, Total Chunk Time: Less than .001 seconds \n",
      "Computation time: 0.003 seconds.\n"
     ]
    },
    {
     "data": {
      "text/html": [
       "<table>\n",
       "<thead><tr><th scope=col>Name</th><th scope=col>Mean</th><th scope=col>StdDev</th><th scope=col>Min</th><th scope=col>Max</th><th scope=col>ValidObs</th><th scope=col>MissingObs</th></tr></thead>\n",
       "<tbody>\n",
       "\t<tr><td>Label    </td><td>0.4896783</td><td>0.5000135</td><td>0        </td><td>1        </td><td>2083     </td><td>0        </td></tr>\n",
       "</tbody>\n",
       "</table>\n"
      ],
      "text/latex": [
       "\\begin{tabular}{r|lllllll}\n",
       " Name & Mean & StdDev & Min & Max & ValidObs & MissingObs\\\\\n",
       "\\hline\n",
       "\t Label     & 0.4896783 & 0.5000135 & 0         & 1         & 2083      & 0        \\\\\n",
       "\\end{tabular}\n"
      ],
      "text/plain": [
       "  Name  Mean      StdDev    Min Max ValidObs MissingObs\n",
       "1 Label 0.4896783 0.5000135 0   1   2083     0         "
      ]
     },
     "metadata": {},
     "output_type": "display_data"
    }
   ],
   "source": [
    "rxSummary(~ Label, dataTrain)$sDataFrame\n",
    "rxSummary(~ Label, dataTest)$sDataFrame"
   ]
  },
  {
   "cell_type": "markdown",
   "metadata": {},
   "source": [
    "We read from the output that train has 8,279 rows while test has 2,083 rows. Because Label is a boolean, its mean shows the proportion of happy tweets in the data. We see that train has more than 50% happy tweets and that test has almost 49% happy tweets, which is a reasonable split."
   ]
  },
  {
   "cell_type": "markdown",
   "metadata": {},
   "source": [
    "### <a id=\"Model\">2.4. DEFINE THE MODEL</a>\n",
    "\n",
    "The model is a formula that describes what column has the label, and what columns are to be used to rxPredict the label. We will be using as rxPredictors features that will be automatically obtained from the Text column. Then we create a formula that says that Label is to be rxPredicted by these features."
   ]
  },
  {
   "cell_type": "code",
   "execution_count": 7,
   "metadata": {
    "collapsed": false
   },
   "outputs": [
    {
     "data": {
      "text/plain": [
       "Label ~ Features"
      ]
     },
     "metadata": {},
     "output_type": "display_data"
    }
   ],
   "source": [
    "#-----------------------------------------------------------------------\n",
    "# 4. Define the model to be fit.\n",
    "#-----------------------------------------------------------------------\n",
    "# The model is a formula that says that sentiments are to be identified\n",
    "# using Features, a stand-in for variables created on-the-fly from text\n",
    "# by the text transform.\n",
    "(model <- Label ~ Features)"
   ]
  },
  {
   "cell_type": "markdown",
   "metadata": {},
   "source": [
    "The left-hand side of the formula is the label, while the right-hand side lists the source of the rxPredictors."
   ]
  },
  {
   "cell_type": "markdown",
   "metadata": {},
   "source": [
    "### <a id=\"Fit\">2.5. FIT THE MODEL</a>\n",
    "\n",
    "The model will be fit by learners that can rxPredict class data: rxLogisticRegression, rxFastLinear, rxFastTrees, rxFastForest, and rxNeuralNet. In the next section, each fit will be used to score the test data. The comments in this section give a glimpse of the kind of work done by each learner.\n",
    "\n",
    "Each command has two mlTransforms. The featurizeText transform automatically creates text-based features from the tweets, while the selectFeatures transform sorts through the created features to include in the model those that are most informative about each tweet's label."
   ]
  },
  {
   "cell_type": "code",
   "execution_count": 8,
   "metadata": {
    "collapsed": false
   },
   "outputs": [
    {
     "name": "stdout",
     "output_type": "stream",
     "text": [
      "Beginning read for block: 1\n",
      "Rows Read: 8279, Read Time: 0.007, Transform Time: 0\n",
      "Beginning read for block: 2\n",
      "No rows remaining. Finished reading data set. \n",
      "Beginning read for block: 1\n",
      "Rows Read: 8279, Read Time: 0.007, Transform Time: 0\n",
      "Beginning read for block: 2\n",
      "No rows remaining. Finished reading data set. \n",
      "Computing mutual information\n",
      "Beginning read for block: 1\n",
      "Rows Read: 8279, Read Time: 0.007, Transform Time: 0\n",
      "Beginning read for block: 2\n",
      "No rows remaining. Finished reading data set. \n",
      "Beginning read for block: 1\n",
      "Rows Read: 8279, Read Time: 0.009, Transform Time: 0\n",
      "Beginning read for block: 2\n",
      "No rows remaining. Finished reading data set. \n",
      "Beginning read for block: 1\n",
      "Rows Read: 8279, Read Time: 0.006, Transform Time: 0\n",
      "Beginning read for block: 2\n",
      "No rows remaining. Finished reading data set. \n",
      "Finished mutual information computation in 00:00:01.4135176\n",
      "Selecting features to drop\n",
      "Selected 1000 slots out of 15588 in column 'Features'\n",
      "Total number of slots selected: 1000\n",
      "Not adding a normalizer.\n",
      "Beginning read for block: 1\n",
      "Rows Read: 8279, Read Time: 0.007, Transform Time: 0\n",
      "Beginning read for block: 2\n",
      "No rows remaining. Finished reading data set. \n",
      "Beginning read for block: 1\n",
      "Rows Read: 8279, Read Time: 0.006, Transform Time: 0\n",
      "Beginning read for block: 2\n",
      "No rows remaining. Finished reading data set. \n",
      "Wrote 8279 rows across 2 columns in 00:00:00.1258488\n",
      "LBFGS multi-threading will attempt to load dataset into memory. In case of out-of-memory issues, turn off multi-threading by setting trainThreads to 1.\n",
      "Beginning optimization\n",
      "num vars: 1001\n",
      "improvement criterion: Mean Improvement\n",
      "L1 regularization selected 346 of 1001 weights.\n",
      "Not training a calibrator because it is not needed.\n",
      "Elapsed time: 00:00:02.6625234\n",
      "Elapsed time: 00:00:00.2480366\n"
     ]
    }
   ],
   "source": [
    "#-----------------------------------------------------------------------\n",
    "# 5. Fit the model using different learners.\n",
    "#-----------------------------------------------------------------------\n",
    "# Fit the model with logistic regression. This finds the variable\n",
    "# weights that are most useful for rxPredicting sentiment. The\n",
    "# rxLogisticRegression learner automatically adjusts the weights to select\n",
    "# those variables that are most useful for making rxPredictions.\n",
    "rxLogisticRegressionFit <-\n",
    "    rxLogisticRegression(model, data = dataTrain,\n",
    "                       mlTransforms =\n",
    "                           list(featurizeText(vars = c(Features = \"Text\")),\n",
    "                                selectFeatures(model, mutualInformation())))"
   ]
  },
  {
   "cell_type": "code",
   "execution_count": 9,
   "metadata": {
    "collapsed": false
   },
   "outputs": [
    {
     "name": "stdout",
     "output_type": "stream",
     "text": [
      "Beginning read for block: 1\n",
      "Rows Read: 8279, Read Time: 0.006, Transform Time: 0\n",
      "Beginning read for block: 2\n",
      "No rows remaining. Finished reading data set. \n",
      "Beginning read for block: 1\n",
      "Rows Read: 8279, Read Time: 0.006, Transform Time: 0\n",
      "Beginning read for block: 2\n",
      "No rows remaining. Finished reading data set. \n",
      "Computing mutual information\n",
      "Beginning read for block: 1\n",
      "Rows Read: 8279, Read Time: 0.006, Transform Time: 0\n",
      "Beginning read for block: 2\n",
      "No rows remaining. Finished reading data set. \n",
      "Beginning read for block: 1\n",
      "Rows Read: 8279, Read Time: 0.007, Transform Time: 0\n",
      "Beginning read for block: 2\n",
      "No rows remaining. Finished reading data set. \n",
      "Beginning read for block: 1\n",
      "Rows Read: 8279, Read Time: 0.005, Transform Time: 0\n",
      "Beginning read for block: 2\n",
      "No rows remaining. Finished reading data set. \n",
      "Finished mutual information computation in 00:00:01.2399867\n",
      "Selecting features to drop\n",
      "Selected 1000 slots out of 15588 in column 'Features'\n",
      "Total number of slots selected: 1000\n",
      "Not adding a normalizer.\n",
      "Beginning read for block: 1\n",
      "Rows Read: 8279, Read Time: 0.007, Transform Time: 0\n",
      "Beginning read for block: 2\n",
      "No rows remaining. Finished reading data set. \n",
      "Beginning read for block: 1\n",
      "Rows Read: 8279, Read Time: 0.005, Transform Time: 0\n",
      "Beginning read for block: 2\n",
      "No rows remaining. Finished reading data set. \n",
      "Wrote 8279 rows across 2 columns in 00:00:00.1051141\n",
      "Using 2 threads to train.\n",
      "Automatically choosing a check frequency of 2.\n",
      "Auto-tuning parameters: maxIterations = 180.\n",
      "Auto-tuning parameters: L2 = 2.684168E-05.\n",
      "Auto-tuning parameters: L1Threshold (L1/L2) = 0.5.\n",
      "Using best model from iteration 178.\n",
      "Not training a calibrator because it is not needed.\n",
      "Elapsed time: 00:00:03.3116258\n",
      "Elapsed time: 00:00:00.1146629\n"
     ]
    }
   ],
   "source": [
    "#-----------------------------------------------------------------------\n",
    "# Fit the model with linear regression. This finds the variable\n",
    "# weights that are most useful for rxPredicting sentiment. The\n",
    "# rxFastLinear learner automatically adjusts the weights to select\n",
    "# those variables that are most useful for making rxPredictions.\n",
    "rxFastLinearFit <-\n",
    "    rxFastLinear(model, data = dataTrain,\n",
    "                  mlTransforms =\n",
    "                    list(featurizeText(vars = c(Features = \"Text\")),\n",
    "                         selectFeatures(model, mutualInformation())))"
   ]
  },
  {
   "cell_type": "code",
   "execution_count": 10,
   "metadata": {
    "collapsed": false
   },
   "outputs": [
    {
     "name": "stdout",
     "output_type": "stream",
     "text": [
      "Beginning read for block: 1\n",
      "Rows Read: 8279, Read Time: 0.008, Transform Time: 0\n",
      "Beginning read for block: 2\n",
      "No rows remaining. Finished reading data set. \n",
      "Beginning read for block: 1\n",
      "Rows Read: 8279, Read Time: 0.007, Transform Time: 0\n",
      "Beginning read for block: 2\n",
      "No rows remaining. Finished reading data set. \n",
      "Computing mutual information\n",
      "Beginning read for block: 1\n",
      "Rows Read: 8279, Read Time: 0.007, Transform Time: 0\n",
      "Beginning read for block: 2\n",
      "No rows remaining. Finished reading data set. \n",
      "Beginning read for block: 1\n",
      "Rows Read: 8279, Read Time: 0.008, Transform Time: 0\n",
      "Beginning read for block: 2\n",
      "No rows remaining. Finished reading data set. \n",
      "Beginning read for block: 1\n",
      "Rows Read: 8279, Read Time: 0.006, Transform Time: 0\n",
      "Beginning read for block: 2\n",
      "No rows remaining. Finished reading data set. \n",
      "Finished mutual information computation in 00:00:01.3049749\n",
      "Selecting features to drop\n",
      "Selected 1000 slots out of 15588 in column 'Features'\n",
      "Total number of slots selected: 1000\n",
      "Not adding a normalizer.\n",
      "Making per-feature arrays\n",
      "Changing data from row-wise to column-wise\n",
      "Beginning read for block: 1\n",
      "Rows Read: 8279, Read Time: 0.006, Transform Time: 0\n",
      "Beginning read for block: 2\n",
      "No rows remaining. Finished reading data set. \n",
      "Processed 8279 instances\n",
      "Binning and forming Feature objects\n",
      "Reserved memory for tree learner: 4848064 bytes\n",
      "Starting to train ...\n",
      "Not training a calibrator because it is not needed.\n",
      "Elapsed time: 00:00:03.7108232\n"
     ]
    }
   ],
   "source": [
    "#-----------------------------------------------------------------------\n",
    "# Fit the model with boosted trees. This finds the combinations of\n",
    "# variables and threshold values that are useful for rxPredicting sentiment.\n",
    "# The rxFastTrees learner automatically builds a sequence of trees so that\n",
    "# trees later in the sequence repair errors made by trees earlier in the\n",
    "# sequence.\n",
    "rxFastTreesFit <-\n",
    "    rxFastTrees(model, data = dataTrain,\n",
    "               mlTransforms =\n",
    "                    list(featurizeText(vars = c(Features = \"Text\")),\n",
    "                         selectFeatures(model, mutualInformation())),\n",
    "               randomSeed = 23648)"
   ]
  },
  {
   "cell_type": "code",
   "execution_count": 11,
   "metadata": {
    "collapsed": false
   },
   "outputs": [
    {
     "name": "stdout",
     "output_type": "stream",
     "text": [
      "Beginning read for block: 1\n",
      "Rows Read: 8279, Read Time: 0.005, Transform Time: 0\n",
      "Beginning read for block: 2\n",
      "No rows remaining. Finished reading data set. \n",
      "Beginning read for block: 1\n",
      "Rows Read: 8279, Read Time: 0.006, Transform Time: 0\n",
      "Beginning read for block: 2\n",
      "No rows remaining. Finished reading data set. \n",
      "Computing mutual information\n",
      "Beginning read for block: 1\n",
      "Rows Read: 8279, Read Time: 0.006, Transform Time: 0\n",
      "Beginning read for block: 2\n",
      "No rows remaining. Finished reading data set. \n",
      "Beginning read for block: 1\n",
      "Rows Read: 8279, Read Time: 0.009, Transform Time: 0\n",
      "Beginning read for block: 2\n",
      "No rows remaining. Finished reading data set. \n",
      "Beginning read for block: 1\n",
      "Rows Read: 8279, Read Time: 0.005, Transform Time: 0\n",
      "Beginning read for block: 2\n",
      "No rows remaining. Finished reading data set. \n",
      "Finished mutual information computation in 00:00:01.2482423\n",
      "Selecting features to drop\n",
      "Selected 1000 slots out of 15588 in column 'Features'\n",
      "Total number of slots selected: 1000\n",
      "Not adding a normalizer.\n",
      "Making per-feature arrays\n",
      "Changing data from row-wise to column-wise\n",
      "Beginning read for block: 1\n",
      "Rows Read: 8279, Read Time: 0.006, Transform Time: 0\n",
      "Beginning read for block: 2\n",
      "No rows remaining. Finished reading data set. \n",
      "Processed 8279 instances\n",
      "Binning and forming Feature objects\n",
      "Reserved memory for tree learner: 4848064 bytes\n",
      "Starting to train ...\n",
      "Training calibrator.\n",
      "Beginning read for block: 1\n",
      "Rows Read: 8279, Read Time: 0.006, Transform Time: 0\n",
      "Beginning read for block: 2\n",
      "No rows remaining. Finished reading data set. \n",
      "Elapsed time: 00:00:03.2268725\n"
     ]
    }
   ],
   "source": [
    "#-----------------------------------------------------------------------\n",
    "# Fit the model with random forest. This finds the combinations of\n",
    "# variables and threshold values that are useful for rxPredicting sentiment.\n",
    "# The rxFastForest learner automatically builds a set of trees whose\n",
    "# combined rxPredictions are better than the rxPredictions of any one of the\n",
    "# trees.\n",
    "rxFastForestFit <-\n",
    "    rxFastForest(model, data = dataTrain,\n",
    "                 mlTransforms =\n",
    "                    list(featurizeText(vars = c(Features = \"Text\")),\n",
    "                         selectFeatures(model, mutualInformation())),\n",
    "                 randomSeed = 23648)"
   ]
  },
  {
   "cell_type": "code",
   "execution_count": 12,
   "metadata": {
    "collapsed": false
   },
   "outputs": [
    {
     "name": "stdout",
     "output_type": "stream",
     "text": [
      "Beginning read for block: 1\n",
      "Rows Read: 8279, Read Time: 0.007, Transform Time: 0\n",
      "Beginning read for block: 2\n",
      "No rows remaining. Finished reading data set. \n",
      "Beginning read for block: 1\n",
      "Rows Read: 8279, Read Time: 0.005, Transform Time: 0\n",
      "Beginning read for block: 2\n",
      "No rows remaining. Finished reading data set. \n",
      "Computing mutual information\n",
      "Beginning read for block: 1\n",
      "Rows Read: 8279, Read Time: 0.009, Transform Time: 0\n",
      "Beginning read for block: 2\n",
      "No rows remaining. Finished reading data set. \n",
      "Beginning read for block: 1\n",
      "Rows Read: 8279, Read Time: 0.008, Transform Time: 0\n",
      "Beginning read for block: 2\n",
      "No rows remaining. Finished reading data set. \n",
      "Beginning read for block: 1\n",
      "Rows Read: 8279, Read Time: 0.006, Transform Time: 0\n",
      "Beginning read for block: 2\n",
      "No rows remaining. Finished reading data set. \n",
      "Finished mutual information computation in 00:00:01.2677761\n",
      "Selecting features to drop\n",
      "Selected 1000 slots out of 15588 in column 'Features'\n",
      "Total number of slots selected: 1000\n",
      "Not adding a normalizer.\n",
      "Beginning read for block: 1\n",
      "Rows Read: 8279, Read Time: 0.005, Transform Time: 0\n",
      "Beginning read for block: 2\n",
      "No rows remaining. Finished reading data set. \n",
      "Beginning read for block: 1\n",
      "Rows Read: 8279, Read Time: 0.006, Transform Time: 0\n",
      "Beginning read for block: 2\n",
      "No rows remaining. Finished reading data set. \n",
      "Wrote 8279 rows across 2 columns in 00:00:00.1013217\n",
      "Using: SSE Math\n",
      "\r\n",
      "***** Net definition *****\r\n",
      "  input Data [1000];\r\n",
      "  hidden H [100] sigmoid { // Depth 1\r\n",
      "    from Data all;\r\n",
      "  }\r\n",
      "  output Result [1] sigmoid { // Depth 0\r\n",
      "    from H all;\r\n",
      "  }\r\n",
      "***** End net definition *****\r\n",
      "Input count: 1000\n",
      "Output count: 1\n",
      "Output Function: Sigmoid\n",
      "Loss Function: CrossEntropy\n",
      "PreTrainer: NoPreTrainer\n",
      "___________________________________________________________________\n",
      "Starting training...\n",
      "Learning rate: 0.001000\n",
      "Momentum: 0.000000\n",
      "InitWtsDiameter: 0.100000\n",
      "___________________________________________________________________\n",
      "Initializing 1 Hidden Layers, 100201 Weights...\n",
      "Estimated Pre-training MeanError = 0.698938\n",
      "Iter:1/100, MeanErr=0.694743(-0.60%%), 15065.45M WeightUpdates/sec\n",
      "Iter:2/100, MeanErr=0.694840(0.01%%), 18442.02M WeightUpdates/sec\n",
      "Iter:3/100, MeanErr=0.694486(-0.05%%), 17963.72M WeightUpdates/sec\n",
      "Iter:4/100, MeanErr=0.694071(-0.06%%), 18966.84M WeightUpdates/sec\n",
      "Iter:5/100, MeanErr=0.694328(0.04%%), 14103.88M WeightUpdates/sec\n",
      "Iter:6/100, MeanErr=0.694218(-0.02%%), 17415.57M WeightUpdates/sec\n",
      "Iter:7/100, MeanErr=0.693784(-0.06%%), 18259.03M WeightUpdates/sec\n",
      "Iter:8/100, MeanErr=0.693539(-0.04%%), 19027.81M WeightUpdates/sec\n",
      "Iter:9/100, MeanErr=0.693908(0.05%%), 18918.35M WeightUpdates/sec\n",
      "Iter:10/100, MeanErr=0.693858(-0.01%%), 17816.30M WeightUpdates/sec\n",
      "Iter:11/100, MeanErr=0.693686(-0.02%%), 18904.39M WeightUpdates/sec\n",
      "Iter:12/100, MeanErr=0.692638(-0.15%%), 18432.16M WeightUpdates/sec\n",
      "Iter:13/100, MeanErr=0.693043(0.06%%), 14960.45M WeightUpdates/sec\n",
      "Iter:14/100, MeanErr=0.692614(-0.06%%), 18872.47M WeightUpdates/sec\n",
      "Iter:15/100, MeanErr=0.692331(-0.04%%), 18877.39M WeightUpdates/sec\n",
      "Iter:16/100, MeanErr=0.691354(-0.14%%), 18753.40M WeightUpdates/sec\n",
      "Iter:17/100, MeanErr=0.690383(-0.14%%), 18039.59M WeightUpdates/sec\n",
      "Iter:18/100, MeanErr=0.690110(-0.04%%), 18911.54M WeightUpdates/sec\n",
      "Iter:19/100, MeanErr=0.690243(0.02%%), 18956.40M WeightUpdates/sec\n",
      "Iter:20/100, MeanErr=0.689222(-0.15%%), 16790.78M WeightUpdates/sec\n",
      "Iter:21/100, MeanErr=0.688592(-0.09%%), 18898.61M WeightUpdates/sec\n",
      "Iter:22/100, MeanErr=0.687258(-0.19%%), 18102.53M WeightUpdates/sec\n",
      "Iter:23/100, MeanErr=0.686780(-0.07%%), 18572.74M WeightUpdates/sec\n",
      "Iter:24/100, MeanErr=0.685722(-0.15%%), 17177.13M WeightUpdates/sec\n",
      "Iter:25/100, MeanErr=0.684179(-0.23%%), 19023.85M WeightUpdates/sec\n",
      "Iter:26/100, MeanErr=0.683205(-0.14%%), 18716.99M WeightUpdates/sec\n",
      "Iter:27/100, MeanErr=0.680451(-0.40%%), 16627.90M WeightUpdates/sec\n",
      "Iter:28/100, MeanErr=0.679039(-0.21%%), 19057.83M WeightUpdates/sec\n",
      "Iter:29/100, MeanErr=0.677644(-0.21%%), 19033.67M WeightUpdates/sec\n",
      "Iter:30/100, MeanErr=0.675449(-0.32%%), 17345.71M WeightUpdates/sec\n",
      "Iter:31/100, MeanErr=0.673144(-0.34%%), 18844.55M WeightUpdates/sec\n",
      "Iter:32/100, MeanErr=0.671218(-0.29%%), 18907.28M WeightUpdates/sec\n",
      "Iter:33/100, MeanErr=0.668102(-0.46%%), 18898.61M WeightUpdates/sec\n",
      "Iter:34/100, MeanErr=0.665372(-0.41%%), 15378.79M WeightUpdates/sec\n",
      "Iter:35/100, MeanErr=0.662624(-0.41%%), 19117.47M WeightUpdates/sec\n",
      "Iter:36/100, MeanErr=0.659697(-0.44%%), 17391.65M WeightUpdates/sec\n",
      "Iter:37/100, MeanErr=0.656194(-0.53%%), 17776.21M WeightUpdates/sec\n",
      "Iter:38/100, MeanErr=0.653975(-0.34%%), 19070.63M WeightUpdates/sec\n",
      "Iter:39/100, MeanErr=0.650510(-0.53%%), 19058.01M WeightUpdates/sec\n",
      "Iter:40/100, MeanErr=0.647118(-0.52%%), 19036.25M WeightUpdates/sec\n",
      "Iter:41/100, MeanErr=0.644360(-0.43%%), 18140.19M WeightUpdates/sec\n",
      "Iter:42/100, MeanErr=0.641092(-0.51%%), 18903.37M WeightUpdates/sec\n",
      "Iter:43/100, MeanErr=0.638272(-0.44%%), 18605.30M WeightUpdates/sec\n",
      "Iter:44/100, MeanErr=0.634489(-0.59%%), 15621.61M WeightUpdates/sec\n",
      "Iter:45/100, MeanErr=0.630816(-0.58%%), 18980.20M WeightUpdates/sec\n",
      "Iter:46/100, MeanErr=0.629236(-0.25%%), 19120.26M WeightUpdates/sec\n",
      "Iter:47/100, MeanErr=0.626434(-0.45%%), 16547.63M WeightUpdates/sec\n",
      "Iter:48/100, MeanErr=0.623489(-0.47%%), 18871.97M WeightUpdates/sec\n",
      "Iter:49/100, MeanErr=0.620743(-0.44%%), 18923.29M WeightUpdates/sec\n",
      "Iter:50/100, MeanErr=0.618342(-0.39%%), 19074.44M WeightUpdates/sec\n",
      "Iter:51/100, MeanErr=0.615784(-0.41%%), 17540.29M WeightUpdates/sec\n",
      "Iter:52/100, MeanErr=0.613617(-0.35%%), 18947.35M WeightUpdates/sec\n",
      "Iter:53/100, MeanErr=0.610573(-0.50%%), 18574.22M WeightUpdates/sec\n",
      "Iter:54/100, MeanErr=0.608551(-0.33%%), 17783.28M WeightUpdates/sec\n",
      "Iter:55/100, MeanErr=0.606447(-0.35%%), 18357.44M WeightUpdates/sec\n",
      "Iter:56/100, MeanErr=0.604080(-0.39%%), 18889.78M WeightUpdates/sec\n",
      "Iter:57/100, MeanErr=0.601244(-0.47%%), 18894.53M WeightUpdates/sec\n",
      "Iter:58/100, MeanErr=0.599538(-0.28%%), 14938.23M WeightUpdates/sec\n",
      "Iter:59/100, MeanErr=0.597053(-0.41%%), 17991.71M WeightUpdates/sec\n",
      "Iter:60/100, MeanErr=0.594561(-0.42%%), 18999.59M WeightUpdates/sec\n",
      "Iter:61/100, MeanErr=0.592751(-0.30%%), 17431.61M WeightUpdates/sec\n",
      "Iter:62/100, MeanErr=0.590446(-0.39%%), 18461.63M WeightUpdates/sec\n",
      "Iter:63/100, MeanErr=0.588331(-0.36%%), 18935.56M WeightUpdates/sec\n",
      "Iter:64/100, MeanErr=0.585737(-0.44%%), 19117.82M WeightUpdates/sec\n",
      "Iter:65/100, MeanErr=0.583760(-0.34%%), 17786.29M WeightUpdates/sec\n",
      "Iter:66/100, MeanErr=0.581722(-0.35%%), 18881.12M WeightUpdates/sec\n",
      "Iter:67/100, MeanErr=0.579230(-0.43%%), 18102.06M WeightUpdates/sec\n",
      "Iter:68/100, MeanErr=0.576833(-0.41%%), 15406.07M WeightUpdates/sec\n",
      "Iter:69/100, MeanErr=0.574782(-0.36%%), 18947.00M WeightUpdates/sec\n",
      "Iter:70/100, MeanErr=0.572724(-0.36%%), 17429.73M WeightUpdates/sec\n",
      "Iter:71/100, MeanErr=0.570328(-0.42%%), 17659.24M WeightUpdates/sec\n",
      "Iter:72/100, MeanErr=0.568012(-0.41%%), 18887.06M WeightUpdates/sec\n",
      "Iter:73/100, MeanErr=0.565969(-0.36%%), 19215.89M WeightUpdates/sec\n",
      "Iter:74/100, MeanErr=0.563822(-0.38%%), 19148.83M WeightUpdates/sec\n",
      "Iter:75/100, MeanErr=0.561578(-0.40%%), 18060.21M WeightUpdates/sec\n",
      "Iter:76/100, MeanErr=0.558682(-0.52%%), 18741.03M WeightUpdates/sec\n",
      "Iter:77/100, MeanErr=0.557239(-0.26%%), 18885.36M WeightUpdates/sec\n",
      "Iter:78/100, MeanErr=0.554676(-0.46%%), 15681.76M WeightUpdates/sec\n",
      "Iter:79/100, MeanErr=0.552723(-0.35%%), 18717.49M WeightUpdates/sec\n",
      "Iter:80/100, MeanErr=0.549682(-0.55%%), 18302.29M WeightUpdates/sec\n",
      "Iter:81/100, MeanErr=0.547993(-0.31%%), 18738.52M WeightUpdates/sec\n",
      "Iter:82/100, MeanErr=0.545911(-0.38%%), 16833.96M WeightUpdates/sec\n",
      "Iter:83/100, MeanErr=0.542927(-0.55%%), 18391.18M WeightUpdates/sec\n",
      "Iter:84/100, MeanErr=0.540912(-0.37%%), 18538.83M WeightUpdates/sec\n",
      "Iter:85/100, MeanErr=0.538768(-0.40%%), 18926.36M WeightUpdates/sec\n",
      "Iter:86/100, MeanErr=0.537217(-0.29%%), 17828.54M WeightUpdates/sec\n",
      "Iter:87/100, MeanErr=0.534463(-0.51%%), 18861.63M WeightUpdates/sec\n",
      "Iter:88/100, MeanErr=0.532809(-0.31%%), 18692.18M WeightUpdates/sec\n",
      "Iter:89/100, MeanErr=0.530901(-0.36%%), 18734.68M WeightUpdates/sec\n",
      "Iter:90/100, MeanErr=0.528513(-0.45%%), 17563.02M WeightUpdates/sec\n",
      "Iter:91/100, MeanErr=0.526226(-0.43%%), 18897.25M WeightUpdates/sec\n",
      "Iter:92/100, MeanErr=0.524161(-0.39%%), 18779.38M WeightUpdates/sec\n",
      "Iter:93/100, MeanErr=0.522293(-0.36%%), 16593.89M WeightUpdates/sec\n",
      "Iter:94/100, MeanErr=0.520065(-0.43%%), 18697.51M WeightUpdates/sec\n",
      "Iter:95/100, MeanErr=0.518003(-0.40%%), 17215.55M WeightUpdates/sec\n",
      "Iter:96/100, MeanErr=0.515826(-0.42%%), 18950.25M WeightUpdates/sec\n",
      "Iter:97/100, MeanErr=0.513923(-0.37%%), 18572.91M WeightUpdates/sec\n",
      "Iter:98/100, MeanErr=0.511994(-0.38%%), 17661.77M WeightUpdates/sec\n",
      "Iter:99/100, MeanErr=0.510253(-0.34%%), 19049.54M WeightUpdates/sec\n",
      "Iter:100/100, MeanErr=0.508042(-0.43%%), 18888.93M WeightUpdates/sec\n",
      "Done!\n",
      "Estimated Post-training MeanError = 0.505545\n",
      "___________________________________________________________________\n",
      "Not training a calibrator because it is not needed.\n",
      "Elapsed time: 00:00:06.6045457\n"
     ]
    }
   ],
   "source": [
    "#-----------------------------------------------------------------------\n",
    "# Fit the model with neural net. This finds the variable weights that\n",
    "# are most useful for rxPredicting sentiment. Neural net can excel when\n",
    "# dealing with non-linear relationships between the variables.\n",
    "rxNeuralNetFit <-\n",
    "    rxNeuralNet(model, data = dataTrain,\n",
    "                mlTransforms =\n",
    "                    list(featurizeText(vars = c(Features = \"Text\")),\n",
    "                         selectFeatures(model, mutualInformation())))"
   ]
  },
  {
   "cell_type": "markdown",
   "metadata": {},
   "source": [
    "### <a id=\"Score\">2.6. SCORE THE TEST DATA</a>\n",
    "\n",
    "Each fit will be used to score the test data.  In order to plot together each fit's performance for convenient side-by-side comparison, we append each rxPrediction column to the test dataset. This will also conveniently include the Label column with the rxPredictions, so that the rxPrediction performance can be computed. When the test data are huge, scoring in this manner may not be possible. In that case, each rxPrediction set will have to be computed separately, and then merged into one data table."
   ]
  },
  {
   "cell_type": "code",
   "execution_count": 13,
   "metadata": {
    "collapsed": false
   },
   "outputs": [
    {
     "name": "stdout",
     "output_type": "stream",
     "text": [
      "Beginning read for block: 1\n",
      "Rows Read: 2083, Read Time: 0.002, Transform Time: 0\n",
      "Beginning read for block: 2\n",
      "No rows remaining. Finished reading data set. \n",
      "Elapsed time: 00:00:00.3493465\n",
      "Finished writing 2083 rows.\n",
      "Writing completed.\n",
      "Beginning read for block: 1\n",
      "Rows Read: 2083, Read Time: 0.002, Transform Time: 0\n",
      "Beginning read for block: 2\n",
      "No rows remaining. Finished reading data set. \n",
      "Elapsed time: 00:00:00.2835029\n",
      "Finished writing 2083 rows.\n",
      "Writing completed.\n",
      "Beginning read for block: 1\n",
      "Rows Read: 2083, Read Time: 0.002, Transform Time: 0\n",
      "Beginning read for block: 2\n",
      "No rows remaining. Finished reading data set. \n",
      "Elapsed time: 00:00:00.4074182\n",
      "Finished writing 2083 rows.\n",
      "Writing completed.\n",
      "Beginning read for block: 1\n",
      "Rows Read: 2083, Read Time: 0.002, Transform Time: 0\n",
      "Beginning read for block: 2\n",
      "No rows remaining. Finished reading data set. \n",
      "Elapsed time: 00:00:00.3653417\n",
      "Finished writing 2083 rows.\n",
      "Writing completed.\n",
      "Beginning read for block: 1\n",
      "Rows Read: 2083, Read Time: 0.002, Transform Time: 0\n",
      "Beginning read for block: 2\n",
      "No rows remaining. Finished reading data set. \n",
      "Elapsed time: 00:00:00.3158979\n",
      "Finished writing 2083 rows.\n",
      "Writing completed.\n"
     ]
    }
   ],
   "source": [
    "#-----------------------------------------------------------------------\n",
    "# 6. Score the held-aside test data with the fit models.\n",
    "#-----------------------------------------------------------------------\n",
    "# The scores are each test record's probability of being a sentiment.\n",
    "# This combines each fit model's rxPredictions and the label into one\n",
    "# table for side-by-side plotting and comparison.\n",
    "fitScores <-\n",
    "    rxPredict(rxLogisticRegressionFit, dataTest, suffix = \".rxLogisticRegression\",\n",
    "            extraVarsToWrite = names(dataTest),\n",
    "            outData = tempfile(fileext = \".xdf\"))\n",
    "fitScores <-\n",
    "    rxPredict(rxFastLinearFit, fitScores, suffix = \".rxFastLinear\",\n",
    "            extraVarsToWrite = names(fitScores),\n",
    "            outData = tempfile(fileext = \".xdf\"))\n",
    "fitScores <-\n",
    "    rxPredict(rxFastTreesFit, fitScores, suffix = \".rxFastTrees\",\n",
    "            extraVarsToWrite = names(fitScores),\n",
    "            outData = tempfile(fileext = \".xdf\"))\n",
    "fitScores <-\n",
    "    rxPredict(rxFastForestFit, fitScores, suffix = \".rxFastForest\",\n",
    "            extraVarsToWrite = names(fitScores),\n",
    "            outData = tempfile(fileext = \".xdf\"))\n",
    "fitScores <-\n",
    "    rxPredict(rxNeuralNetFit, fitScores, suffix = \".rxNeuralNet\",\n",
    "            extraVarsToWrite = names(fitScores),\n",
    "            outData = tempfile(fileext = \".xdf\"))"
   ]
  },
  {
   "cell_type": "markdown",
   "metadata": {},
   "source": [
    "We see in the output of the command that the number of rows in the results is the same as the number of rows in the test data."
   ]
  },
  {
   "cell_type": "markdown",
   "metadata": {},
   "source": [
    "### <a id=\"Compare\">2.7. COMPARE THE FIT MODEL PERFORMANCE</a>\n",
    "\n",
    "For each fit model, its rxPredictions and the Label are used to compute an ROC curve for that fit. The curves will then be plotted side-by-side in a graph."
   ]
  },
  {
   "cell_type": "code",
   "execution_count": 14,
   "metadata": {
    "collapsed": false
   },
   "outputs": [
    {
     "data": {
      "image/png": "[encoded data removed]",
      "text/plain": [
       "plot without title"
      ]
     },
     "metadata": {},
     "output_type": "display_data"
    }
   ],
   "source": [
    "#-----------------------------------------------------------------------\n",
    "# 7. Compare the performance of fit models.\n",
    "#-----------------------------------------------------------------------\n",
    "# Compute the fit models's ROC curves.\n",
    "fitRoc <-\n",
    "    rxRoc(\"Label\",\n",
    "          paste(\"Probability\",\n",
    "                 c(\"rxLogisticRegression\", \"rxFastLinear\", \"rxFastTrees\",\n",
    "                   \"rxFastForest\", \"rxNeuralNet\"),\n",
    "                 sep = \".\"),\n",
    "          fitScores)\n",
    "# Plot the ROC curves and report their AUCs.\n",
    "plot(fitRoc)"
   ]
  },
  {
   "cell_type": "markdown",
   "metadata": {},
   "source": [
    "The fit models are then used to compute the fit model AUCs, and these are used to select the best model."
   ]
  },
  {
   "cell_type": "code",
   "execution_count": 15,
   "metadata": {
    "collapsed": false
   },
   "outputs": [
    {
     "name": "stdout",
     "output_type": "stream",
     "text": [
      "Fit model AUCs:\n",
      "        rxFastForest         rxFastLinear          rxFastTrees \n",
      "                0.80                 0.87                 0.88 \n",
      "rxLogisticRegression          rxNeuralNet \n",
      "                0.85                 0.82 \n",
      "Best fit model with rxFastTrees, AUC = 0.88.\n"
     ]
    }
   ],
   "source": [
    "# Create a named list of the fit models.\n",
    "fitList <-\n",
    "    list(rxLogisticRegression = rxLogisticRegressionFit,\n",
    "         rxFastLinear = rxFastLinearFit,\n",
    "         rxFastTrees = rxFastTreesFit,\n",
    "         rxFastForest = rxFastForestFit,\n",
    "         rxNeuralNet = rxNeuralNetFit)\n",
    "\n",
    "# Compute the fit models's AUCs.\n",
    "fitAuc <- rxAuc(fitRoc)\n",
    "names(fitAuc) <- substring(names(fitAuc), nchar(\"Probability.\") + 1)\n",
    "\n",
    "# Find the name of the fit with the largest AUC.\n",
    "bestFitName <- names(which.max(fitAuc))\n",
    "\n",
    "# Select the fit model with the largest AUC.\n",
    "bestFit <- fitList[[bestFitName]]\n",
    "\n",
    "# Report the fit AUCs.\n",
    "cat(\"Fit model AUCs:\\n\")\n",
    "print(fitAuc, digits = 2)\n",
    "\n",
    "# Report the best fit.\n",
    "cat(paste0(\"Best fit model with \", bestFitName,\n",
    "           \", AUC = \", signif(fitAuc[[bestFitName]], digits = 2),\n",
    "           \".\\n\"))"
   ]
  },
  {
   "cell_type": "markdown",
   "metadata": {},
   "source": [
    "In the end, the best fit model is stored in variable bestFit."
   ]
  },
  {
   "cell_type": "markdown",
   "metadata": {},
   "source": [
    "## <a id=\"Next\">3. WHAT'S NEXT?</a>\n",
    "\n",
    "In the Microsoft ML samples directory, the script TwitterSentiment.R contains all the R code used in this tutorial. It also contains other scripts formatted to follow the steps used for retail churn. Try them out interactively, and learn about other Microsoft ML capabilities."
   ]
  }
 ],
 "metadata": {
  "anaconda-cloud": {},
  "kernelspec": {
   "display_name": "R",
   "language": "R",
   "name": "ir"
  },
  "language_info": {
   "codemirror_mode": "r",
   "file_extension": ".r",
   "mimetype": "text/x-r-source",
   "name": "R",
   "pygments_lexer": "r",
   "version": "3.3.2"
  }
 },
 "nbformat": 4,
 "nbformat_minor": 1
}
